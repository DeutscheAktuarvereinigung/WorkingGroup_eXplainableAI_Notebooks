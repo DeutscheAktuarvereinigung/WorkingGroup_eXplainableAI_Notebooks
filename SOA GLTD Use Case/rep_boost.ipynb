{
 "cells": [
  {
   "cell_type": "markdown",
   "metadata": {},
   "source": [
    "<!-- Simon-Style -->\n",
    "<p style=\"font-size:19px; text-align:left; margin-top:    15px;\"><i>German Association of Actuaries (DAV) — Working Group \"Explainable Artificial Intelligence\"</i></p>\n",
    "<p style=\"font-size:25px; text-align:left; margin-bottom: 15px\"><b>Use Case SOA GLTD Experience Study:<br>\n",
    "Gradient Boosted Tree - Predictive Performance\n",
    "</b></p>\n",
    "<p style=\"font-size:19px; text-align:left; margin-bottom: 15px; margin-bottom: 15px\">Guido Grützner (<a href=\"mailto:guido.gruetzner@quantakt.com\">guido.gruetzner@quantakt.com</a>)"
   ]
  },
  {
   "cell_type": "markdown",
   "metadata": {},
   "source": [
    "# Introduction\n",
    "\n",
    "Gradient boosted trees are fitted, and their predictive performance is evaluated.\n",
    "\n",
    "The used hyperparameters have been established in the notebook \"hptuning_boost.ipynb\". Three variants are compared: A model \"no_interactions\" without interactions, i.e. an additive model, a model \"pairwise\" with only pairwise interactions, and a model \"None\" without constraints on the type and size of interactions.\n",
    "\n",
    "This notebook takes about 25 min to run with the given parameters and `pct=0.3`."
   ]
  },
  {
   "cell_type": "markdown",
   "metadata": {},
   "source": [
    "# Initialisation"
   ]
  },
  {
   "cell_type": "code",
   "execution_count": 1,
   "metadata": {
    "execution": {
     "iopub.execute_input": "2025-01-07T15:03:34.258673Z",
     "iopub.status.busy": "2025-01-07T15:03:34.258673Z",
     "iopub.status.idle": "2025-01-07T15:03:35.431467Z",
     "shell.execute_reply": "2025-01-07T15:03:35.431467Z",
     "shell.execute_reply.started": "2025-01-07T15:03:34.258673Z"
    }
   },
   "outputs": [],
   "source": [
    "from sklearn.ensemble import HistGradientBoostingClassifier\n",
    "from sklearn.model_selection import GroupShuffleSplit\n",
    "from sklearn.metrics import log_loss\n",
    "\n",
    "import matplotlib.pyplot as plt\n",
    "# adjust according to your age and vision\n",
    "plt.rcParams['axes.titlesize'] = 20   # Title font size\n",
    "plt.rcParams['axes.labelsize'] = 15   # Axis label font size\n",
    "plt.rcParams['xtick.labelsize'] = 12  # X-axis tick label font size\n",
    "plt.rcParams['ytick.labelsize'] = 12  # Y-axis tick label font size \n",
    "\n",
    "import gltd_utilities\n",
    "\n",
    "import time\n",
    "import numpy as np\n",
    "import pandas as pd\n",
    "pd.options.mode.copy_on_write = True\n",
    "\n",
    "# adjust accordingly, more CPUs is faster but then script may block PC\n",
    "import os\n",
    "os.environ['LOKY_MAX_CPU_COUNT'] = '4'"
   ]
  },
  {
   "cell_type": "markdown",
   "metadata": {},
   "source": [
    "* Adapt the path for the data file in the call of `load_gltd_data`, if necessary.\n",
    "* Adapt pct to your requirements for anything between  $0.05\\leq pct\\leq1$. \n",
    "* Input 1 uses all data available, lower numbers the respective fraction. Below 0.05 predictions become somewhat volatile."
   ]
  },
  {
   "cell_type": "code",
   "execution_count": 2,
   "metadata": {
    "execution": {
     "iopub.execute_input": "2025-01-07T15:03:35.431467Z",
     "iopub.status.busy": "2025-01-07T15:03:35.431467Z",
     "iopub.status.idle": "2025-01-07T15:03:35.914221Z",
     "shell.execute_reply": "2025-01-07T15:03:35.914221Z",
     "shell.execute_reply.started": "2025-01-07T15:03:35.431467Z"
    }
   },
   "outputs": [
    {
     "data": {
      "text/plain": [
       "'190926317337784452451646965445424039034'"
      ]
     },
     "execution_count": 2,
     "metadata": {},
     "output_type": "execute_result"
    }
   ],
   "source": [
    "tic = time.time()\n",
    "(X, Y, ID, nm_cat, nm_num, seed, rng) = gltd_utilities.load_gltd_data(\n",
    "                                            \"./\", pct=0.3)\n",
    "seed"
   ]
  },
  {
   "cell_type": "markdown",
   "metadata": {},
   "source": [
    "# Evaluate"
   ]
  },
  {
   "cell_type": "code",
   "execution_count": 3,
   "metadata": {
    "execution": {
     "iopub.execute_input": "2025-01-07T15:03:35.914221Z",
     "iopub.status.busy": "2025-01-07T15:03:35.914221Z",
     "iopub.status.idle": "2025-01-07T15:39:17.196723Z",
     "shell.execute_reply": "2025-01-07T15:39:17.196723Z",
     "shell.execute_reply.started": "2025-01-07T15:03:35.914221Z"
    }
   },
   "outputs": [
    {
     "name": "stdout",
     "output_type": "stream",
     "text": [
      "--------------------------------------------\n",
      "None\n",
      "--------------------------------------------\n",
      "Run 1:\n",
      "Run 2:\n",
      "Run 3:\n",
      "Run 4:\n",
      "Run 5:\n",
      "Run 6:\n",
      "--------------------------------------------\n",
      "pairwise\n",
      "--------------------------------------------\n",
      "Run 1:\n",
      "Run 2:\n",
      "Run 3:\n",
      "Run 4:\n",
      "Run 5:\n",
      "Run 6:\n",
      "--------------------------------------------\n",
      "no_interactions\n",
      "--------------------------------------------\n",
      "Run 1:\n",
      "Run 2:\n",
      "Run 3:\n",
      "Run 4:\n",
      "Run 5:\n",
      "Run 6:\n"
     ]
    }
   ],
   "source": [
    "# number and size of bootstrap iterations\n",
    "gss = GroupShuffleSplit(n_splits=6, train_size=0.7, test_size=0.3,\n",
    "                        random_state=rng.integers(low=0, high=1000))\n",
    "\n",
    "# Interaction constraint\n",
    "md_inter_list = [None, \"pairwise\", \"no_interactions\"]\n",
    "\n",
    "# container for results\n",
    "typelist = list()\n",
    "lltrainlist = list()\n",
    "lltestlist = list()\n",
    "\n",
    "for md_inter in md_inter_list:\n",
    "    print(\"--------------------------------------------\")\n",
    "    print(md_inter)\n",
    "    print(\"--------------------------------------------\")\n",
    "\n",
    "    for ii, (trainidx, testidx) in enumerate(gss.split(X,groups=ID)):\n",
    "        \n",
    "        print(f\"Run {ii + 1}:\")\n",
    "\n",
    "        xtrain, xtest = X.iloc[trainidx, :], X.iloc[testidx, :]\n",
    "        ytrain, ytest = Y.iloc[trainidx], Y.iloc[testidx]\n",
    "        \n",
    "        md = HistGradientBoostingClassifier(\n",
    "                interaction_cst = md_inter,\n",
    "                categorical_features=\"from_dtype\",\n",
    "                max_iter=1000,\n",
    "                learning_rate=0.02,\n",
    "                max_leaf_nodes=80,\n",
    "                random_state=rng.integers(low=0, high=1000))\n",
    "\n",
    "        md.fit(xtrain, ytrain)\n",
    "\n",
    "        # performance statistics\n",
    "        phat = {\"train\": md.predict_proba(xtrain), \n",
    "                \"test\": md.predict_proba(xtest)}\n",
    "        typelist = typelist + [md_inter]\n",
    "        lltrainlist = (lltrainlist \n",
    "                        + [log_loss(ytrain, phat[\"train\"])])\n",
    "        lltestlist = (lltestlist \n",
    "                        + [log_loss(ytest, phat[\"test\"])])\n",
    "\n",
    "        \n"
   ]
  },
  {
   "cell_type": "code",
   "execution_count": 4,
   "metadata": {
    "execution": {
     "iopub.execute_input": "2025-01-07T15:39:17.198725Z",
     "iopub.status.busy": "2025-01-07T15:39:17.197725Z",
     "iopub.status.idle": "2025-01-07T15:39:17.202188Z",
     "shell.execute_reply": "2025-01-07T15:39:17.202188Z",
     "shell.execute_reply.started": "2025-01-07T15:39:17.198725Z"
    }
   },
   "outputs": [],
   "source": [
    "# remember: row-major!\n",
    "lltrainarr = (100**2 \n",
    "              * np.array(lltrainlist).reshape(len(md_inter_list), gss.get_n_splits()) )\n",
    "lltestarr = (100**2 \n",
    "             * np.array(lltestlist).reshape(len(md_inter_list), gss.get_n_splits()))"
   ]
  },
  {
   "cell_type": "markdown",
   "metadata": {},
   "source": [
    "## Analysis"
   ]
  },
  {
   "cell_type": "markdown",
   "metadata": {},
   "source": [
    "To enhance readability, log-loss is reported in bps (basis points), i.e. multiplied by 10'000 and rounded."
   ]
  },
  {
   "cell_type": "code",
   "execution_count": 5,
   "metadata": {
    "execution": {
     "iopub.execute_input": "2025-01-07T15:39:17.204195Z",
     "iopub.status.busy": "2025-01-07T15:39:17.204195Z",
     "iopub.status.idle": "2025-01-07T15:39:17.222242Z",
     "shell.execute_reply": "2025-01-07T15:39:17.222242Z",
     "shell.execute_reply.started": "2025-01-07T15:39:17.204195Z"
    }
   },
   "outputs": [
    {
     "data": {
      "text/html": [
       "<div>\n",
       "<style scoped>\n",
       "    .dataframe tbody tr th:only-of-type {\n",
       "        vertical-align: middle;\n",
       "    }\n",
       "\n",
       "    .dataframe tbody tr th {\n",
       "        vertical-align: top;\n",
       "    }\n",
       "\n",
       "    .dataframe thead th {\n",
       "        text-align: right;\n",
       "    }\n",
       "</style>\n",
       "<table border=\"1\" class=\"dataframe\">\n",
       "  <thead>\n",
       "    <tr style=\"text-align: right;\">\n",
       "      <th></th>\n",
       "      <th>model</th>\n",
       "      <th>train mean</th>\n",
       "      <th>train stdev</th>\n",
       "      <th>test mean</th>\n",
       "      <th>test stdev</th>\n",
       "    </tr>\n",
       "  </thead>\n",
       "  <tbody>\n",
       "    <tr>\n",
       "      <th>2</th>\n",
       "      <td>no_interactions</td>\n",
       "      <td>542</td>\n",
       "      <td>2</td>\n",
       "      <td>544</td>\n",
       "      <td>5</td>\n",
       "    </tr>\n",
       "    <tr>\n",
       "      <th>1</th>\n",
       "      <td>pairwise</td>\n",
       "      <td>507</td>\n",
       "      <td>2</td>\n",
       "      <td>524</td>\n",
       "      <td>5</td>\n",
       "    </tr>\n",
       "    <tr>\n",
       "      <th>0</th>\n",
       "      <td>all</td>\n",
       "      <td>471</td>\n",
       "      <td>7</td>\n",
       "      <td>520</td>\n",
       "      <td>4</td>\n",
       "    </tr>\n",
       "  </tbody>\n",
       "</table>\n",
       "</div>"
      ],
      "text/plain": [
       "             model  train mean  train stdev  test mean  test stdev\n",
       "2  no_interactions         542            2        544           5\n",
       "1         pairwise         507            2        524           5\n",
       "0              all         471            7        520           4"
      ]
     },
     "execution_count": 5,
     "metadata": {},
     "output_type": "execute_result"
    }
   ],
   "source": [
    "resdf = pd.DataFrame(\n",
    "    {\"model\": [\"all\", \"pairwise\", \"no_interactions\"],\n",
    "    \"train mean\": np.mean(lltrainarr, axis=1), \n",
    "    \"train stdev\": np.std(lltrainarr, axis=1),\n",
    "    \"test mean\": np.mean(lltestarr, axis=1),\n",
    "    \"test stdev\": np.std(lltestarr, axis=1)}\n",
    ")\n",
    "tmpdf = resdf.select_dtypes(include=['number'])\n",
    "resdf[tmpdf.columns] = tmpdf.apply(lambda x: round(x,0)).astype(\"int\")\n",
    "resdf.sort_values([\"test mean\"], ascending=False)"
   ]
  },
  {
   "cell_type": "code",
   "execution_count": 6,
   "metadata": {
    "execution": {
     "iopub.execute_input": "2025-01-07T15:39:17.225250Z",
     "iopub.status.busy": "2025-01-07T15:39:17.225250Z",
     "iopub.status.idle": "2025-01-07T15:39:17.675594Z",
     "shell.execute_reply": "2025-01-07T15:39:17.674591Z",
     "shell.execute_reply.started": "2025-01-07T15:39:17.225250Z"
    }
   },
   "outputs": [
    {
     "data": {
      "image/png": "[encoded data removed]",
      "text/plain": [
       "<Figure size 1200x900 with 2 Axes>"
      ]
     },
     "metadata": {},
     "output_type": "display_data"
    }
   ],
   "source": [
    "pltdf = pd.DataFrame(lltestarr,\n",
    "        index=md_inter_list,\n",
    "        columns= [str(iter) for iter in range(1, gss.get_n_splits()+1)]).T\n",
    "\n",
    "fig, ax = plt.subplots(nrows=1, ncols=2, figsize = (12,9))\n",
    "tt = [\"all\"] + pltdf.columns.values.tolist()[1:]\n",
    "\n",
    "pltdf = pd.DataFrame(lltrainarr,\n",
    "        index=md_inter_list,\n",
    "        columns= [str(iter) for iter in range(1, gss.get_n_splits()+1)]).T\n",
    "\n",
    "ax[0].boxplot(pltdf, tick_labels=tt)\n",
    "ax[0].grid(which=\"major\", axis=\"y\")\n",
    "ax[0].set_xlabel(\"Permitted interactions\")\n",
    "ax[0].set_title(\"Bootstrapped log loss - Training\")\n",
    "\n",
    "pltdf = pd.DataFrame(lltestarr,\n",
    "        index=md_inter_list,\n",
    "        columns= [str(iter) for iter in range(1, gss.get_n_splits()+1)]).T\n",
    "\n",
    "ax[1].boxplot(pltdf, tick_labels=tt)\n",
    "ax[1].grid(which=\"major\", axis=\"y\")\n",
    "ax[1].set_xlabel(\"Permitted interactions\")\n",
    "ax[1].set_title(\"Bootstrapped log loss - Test\")\n",
    "\n",
    "# Determine the common y-axis limit\n",
    "y_max = max(ax[0].get_ylim()[1], ax[1].get_ylim()[1])\n",
    "y_min = min(ax[0].get_ylim()[0], ax[1].get_ylim()[0])\n",
    "\n",
    "# Set the same y-axis limit for both plots\n",
    "ax[0].set_ylim([y_min, y_max])\n",
    "ax[0].set_ylabel(\"Loss in bps\")\n",
    "ax[1].set_ylim([y_min, y_max])\n",
    "ax[1].set_ylabel(\"Loss in bps\")\n",
    "# Adjust layout\n",
    "plt.tight_layout()"
   ]
  },
  {
   "cell_type": "markdown",
   "metadata": {},
   "source": [
    "Observations:\n",
    "* Interactions make a difference. To get a feeling for the size of the difference, compare the 20bps between \"no_interactions\" and \"pairwise\" for Test with typical numbers from the drop1 explanation in the notebook \"exp_drop1\". 20bps difference is about the difference between having or not having an important input, i.e. it is really significant.\n",
    "* There is much less difference, if any, between \"pairwise\" and \"all\"."
   ]
  },
  {
   "cell_type": "code",
   "execution_count": 7,
   "metadata": {
    "execution": {
     "iopub.execute_input": "2025-01-07T15:39:17.676596Z",
     "iopub.status.busy": "2025-01-07T15:39:17.676596Z",
     "iopub.status.idle": "2025-01-07T15:39:17.683113Z",
     "shell.execute_reply": "2025-01-07T15:39:17.682105Z",
     "shell.execute_reply.started": "2025-01-07T15:39:17.676596Z"
    }
   },
   "outputs": [
    {
     "name": "stdout",
     "output_type": "stream",
     "text": [
      "Time it took: 36.0min.\n"
     ]
    }
   ],
   "source": [
    "print(f\"Time it took: {np.ceil((time.time() - tic)/60)}min.\")"
   ]
  }
 ],
 "metadata": {
  "kernelspec": {
   "display_name": "Python 3 (ipykernel)",
   "language": "python",
   "name": "python3"
  },
  "language_info": {
   "codemirror_mode": {
    "name": "ipython",
    "version": 3
   },
   "file_extension": ".py",
   "mimetype": "text/x-python",
   "name": "python",
   "nbconvert_exporter": "python",
   "pygments_lexer": "ipython3",
   "version": "3.12.1"
  }
 },
 "nbformat": 4,
 "nbformat_minor": 4
}
