{
 "cells": [
  {
   "cell_type": "markdown",
   "metadata": {},
   "source": [
    "<!-- Simon-Style -->\n",
    "<p style=\"font-size:19px; text-align:left; margin-top:    15px;\"><i>German Association of Actuaries (DAV) — Working Group \"Explainable Artificial Intelligence\"</i></p>\n",
    "<p style=\"font-size:25px; text-align:left; margin-bottom: 15px\"><b>Use Case SOA GLTD Experience Study:<br>\n",
    "GLM - Predictive Performance\n",
    "</b></p>\n",
    "<p style=\"font-size:19px; text-align:left; margin-bottom: 15px; margin-bottom: 15px\">Guido Grützner (<a href=\"mailto:guido.gruetzner@quantakt.com\">guido.gruetzner@quantakt.com</a>)"
   ]
  },
  {
   "cell_type": "markdown",
   "metadata": {},
   "source": [
    "# Introduction\n",
    "\n",
    "Two logistic regression models with logit link functions are fitted are fitted and their performance evaluated. The first is a baseline \"trivial\", i.e. constant intercept-only model, which does not use any of the features, the second a main effects GLM. Main effects mean the inputs $X_k$ with $k=1,\\ldots, d$ are identical to the features, so that the GLM is defined by:\n",
    "\n",
    "$$ \\log \\frac{p}{1 - p} = \\sum_{k=1}^d X_k\\beta_k + \\beta_0.$$\n",
    "Here $d$ is the number of inputs and $p$ the predicted probability.\n",
    "\n",
    "Performance notice: This notebook takes about 5 min to run with the given parameters.\n"
   ]
  },
  {
   "cell_type": "markdown",
   "metadata": {},
   "source": [
    "# Initialisation"
   ]
  },
  {
   "cell_type": "code",
   "execution_count": 1,
   "metadata": {
    "execution": {
     "iopub.execute_input": "2024-07-20T16:36:39.420163Z",
     "iopub.status.busy": "2024-07-20T16:36:39.420163Z",
     "iopub.status.idle": "2024-07-20T16:36:40.596265Z",
     "shell.execute_reply": "2024-07-20T16:36:40.596265Z",
     "shell.execute_reply.started": "2024-07-20T16:36:39.420163Z"
    }
   },
   "outputs": [],
   "source": [
    "from glum import GeneralizedLinearRegressor\n",
    "\n",
    "from sklearn.model_selection import GroupShuffleSplit\n",
    "from sklearn.metrics import log_loss\n",
    "\n",
    "from IPython.display import display\n",
    "import matplotlib.pyplot as plt\n",
    "\n",
    "# adjust according to your age and vision\n",
    "plt.rcParams['axes.titlesize'] = 20   # Title font size\n",
    "plt.rcParams['axes.labelsize'] = 15   # Axis label font size\n",
    "plt.rcParams['xtick.labelsize'] = 12  # X-axis tick label font size\n",
    "plt.rcParams['ytick.labelsize'] = 12  # Y-axis tick label font size \n",
    "\n",
    "import gltd_utilities\n",
    "\n",
    "import time\n",
    "import numpy as np\n",
    "import pandas as pd\n",
    "pd.options.mode.copy_on_write = True"
   ]
  },
  {
   "cell_type": "markdown",
   "metadata": {},
   "source": [
    "* Adapt the path for the data file in the call of `load_gltd_data`, if necessary.\n",
    "* Adapt pct to your requirements for anything between  $0.05\\leq pct\\leq1$. \n",
    "* Input 1 uses all data available, lower numbers the respective fraction. Below 0.05 predictions become somewhat volatile."
   ]
  },
  {
   "cell_type": "code",
   "execution_count": 2,
   "metadata": {
    "execution": {
     "iopub.execute_input": "2024-07-20T16:36:40.596265Z",
     "iopub.status.busy": "2024-07-20T16:36:40.596265Z",
     "iopub.status.idle": "2024-07-20T16:36:41.113650Z",
     "shell.execute_reply": "2024-07-20T16:36:41.113650Z",
     "shell.execute_reply.started": "2024-07-20T16:36:40.596265Z"
    }
   },
   "outputs": [
    {
     "data": {
      "text/plain": [
       "'126811861150947234566834138398174207023'"
      ]
     },
     "execution_count": 2,
     "metadata": {},
     "output_type": "execute_result"
    }
   ],
   "source": [
    "tic = time.time()\n",
    "(X, Y, ID, nm_cat, nm_num, seed, rng) = gltd_utilities.load_gltd_data(\n",
    "                                            \"./\", pct=0.3)\n",
    "seed"
   ]
  },
  {
   "cell_type": "markdown",
   "metadata": {},
   "source": [
    "# Evaluate"
   ]
  },
  {
   "cell_type": "markdown",
   "metadata": {},
   "source": [
    "The whole procedure of repeated fits and subsequent analysis is wrapped into the following function. To estimate overfitting and prediction uncertainty, we show train and test loss for a number of bootstrap iterations. To reduce numerical issues, very light L2 regularization is applied."
   ]
  },
  {
   "cell_type": "code",
   "execution_count": 3,
   "metadata": {
    "execution": {
     "iopub.execute_input": "2024-07-20T16:36:41.113650Z",
     "iopub.status.busy": "2024-07-20T16:36:41.113650Z",
     "iopub.status.idle": "2024-07-20T16:36:41.119865Z",
     "shell.execute_reply": "2024-07-20T16:36:41.119865Z",
     "shell.execute_reply.started": "2024-07-20T16:36:41.113650Z"
    }
   },
   "outputs": [],
   "source": [
    "def fit_and_display(fml):\n",
    "    \n",
    "    # the train-test splits to loop over, \n",
    "    # increase n_splits for more precise statistice \n",
    "    gss = GroupShuffleSplit(n_splits=6, train_size=0.7, test_size=0.3,\n",
    "                            random_state=rng.integers(low=0, high=1000))\n",
    "    \n",
    "    # container for results\n",
    "    lltrainlist = list()\n",
    "    lltestlist = list()\n",
    "    \n",
    "    for ii, (trainidx, testidx) in enumerate(gss.split(X, groups=ID)):\n",
    "        print(\"--------------------------------------------\")\n",
    "        print(f\"Run {ii + 1}:\")\n",
    "        print(\"--------------------------------------------\")\n",
    "    \n",
    "        xtrain, xtest = X.iloc[trainidx, :], X.iloc[testidx, :]\n",
    "        ytrain, ytest = Y.iloc[trainidx], Y.iloc[testidx]\n",
    "\n",
    "        # alpha 1e-6 is the regularization\n",
    "        md = GeneralizedLinearRegressor(\n",
    "            l1_ratio=0.0,\n",
    "            alpha=1e-6,\n",
    "            family=\"binomial\", \n",
    "            link=\"logit\",\n",
    "            fit_intercept=True,\n",
    "            drop_first=True,\n",
    "            formula = fml\n",
    "        )\n",
    "        \n",
    "        md.fit(xtrain, ytrain)\n",
    "        # performance statistics\n",
    "        phat = {\"train\": md.predict(xtrain), \"test\": md.predict(xtest)}\n",
    "        lltrainlist = (lltrainlist \n",
    "                       + [log_loss(ytrain, phat[\"train\"])])\n",
    "        lltestlist = (lltestlist \n",
    "                       + [log_loss(ytest, phat[\"test\"])])\n",
    "    \n",
    "    # Analysis\n",
    "    # remember: row-major!\n",
    "    lltrainarr = ( 100**2 \n",
    "                  * np.array(lltrainlist).reshape(gss.get_n_splits(), ))\n",
    "    lltestarr = (100**2 \n",
    "                  * np.array(lltestlist).reshape(gss.get_n_splits(), ))\n",
    "    \n",
    "    resdf = pd.DataFrame({\"mean\": [np.mean(lltrainarr), np.mean(lltestarr)],\n",
    "                          \"std\": [np.std(lltrainarr), np.std(lltestarr)]},\n",
    "                        index = [\"train\", \"test\"])\n",
    "    tmpdf = resdf.select_dtypes(include=['number'])\n",
    "    resdf[tmpdf.columns] = tmpdf.apply(lambda x: round(x,0)).astype(\"int\")\n",
    "    display(resdf.style.set_caption(\n",
    "        f\"Train and test loss on {gss.get_n_splits()} iterations\"))\n",
    "    \n",
    "    fig, ax = plt.subplots(figsize = (12,9))\n",
    "    pltdf = pd.DataFrame({\"train\": lltrainarr, \"test\": lltestarr})\n",
    "    \n",
    "    ax.boxplot(pltdf, tick_labels=pltdf.columns)\n",
    "    ax.grid(which=\"major\", axis=\"y\")\n",
    "    ax.set_ylabel(\"Loss in bps\")\n",
    "    ax.set_title(\"Bootstrapped loss\")"
   ]
  },
  {
   "cell_type": "markdown",
   "metadata": {},
   "source": [
    "## Constant model"
   ]
  },
  {
   "cell_type": "markdown",
   "metadata": {},
   "source": [
    "It always makes sense to start with the most simple model: The constant function. Accordingly, an intercept-only GLM is fitted without any explaining factors.\n",
    "To enhance readability, log-loss is reported in bps (basis points), i.e. multiplied by 10'000 and rounded.  "
   ]
  },
  {
   "cell_type": "code",
   "execution_count": 4,
   "metadata": {
    "execution": {
     "iopub.execute_input": "2024-07-20T16:36:41.119865Z",
     "iopub.status.busy": "2024-07-20T16:36:41.119865Z",
     "iopub.status.idle": "2024-07-20T16:36:49.269513Z",
     "shell.execute_reply": "2024-07-20T16:36:49.269513Z",
     "shell.execute_reply.started": "2024-07-20T16:36:41.119865Z"
    }
   },
   "outputs": [
    {
     "name": "stdout",
     "output_type": "stream",
     "text": [
      "--------------------------------------------\n",
      "Run 1:\n",
      "--------------------------------------------\n",
      "--------------------------------------------\n",
      "Run 2:\n",
      "--------------------------------------------\n",
      "--------------------------------------------\n",
      "Run 3:\n",
      "--------------------------------------------\n",
      "--------------------------------------------\n",
      "Run 4:\n",
      "--------------------------------------------\n",
      "--------------------------------------------\n",
      "Run 5:\n",
      "--------------------------------------------\n",
      "--------------------------------------------\n",
      "Run 6:\n",
      "--------------------------------------------\n"
     ]
    },
    {
     "data": {
      "text/html": [
       "<style type=\"text/css\">\n",
       "</style>\n",
       "<table id=\"T_94eac\">\n",
       "  <caption>Train and test loss on 6 iterations</caption>\n",
       "  <thead>\n",
       "    <tr>\n",
       "      <th class=\"blank level0\" >&nbsp;</th>\n",
       "      <th id=\"T_94eac_level0_col0\" class=\"col_heading level0 col0\" >mean</th>\n",
       "      <th id=\"T_94eac_level0_col1\" class=\"col_heading level0 col1\" >std</th>\n",
       "    </tr>\n",
       "  </thead>\n",
       "  <tbody>\n",
       "    <tr>\n",
       "      <th id=\"T_94eac_level0_row0\" class=\"row_heading level0 row0\" >train</th>\n",
       "      <td id=\"T_94eac_row0_col0\" class=\"data row0 col0\" >745</td>\n",
       "      <td id=\"T_94eac_row0_col1\" class=\"data row0 col1\" >3</td>\n",
       "    </tr>\n",
       "    <tr>\n",
       "      <th id=\"T_94eac_level0_row1\" class=\"row_heading level0 row1\" >test</th>\n",
       "      <td id=\"T_94eac_row1_col0\" class=\"data row1 col0\" >744</td>\n",
       "      <td id=\"T_94eac_row1_col1\" class=\"data row1 col1\" >7</td>\n",
       "    </tr>\n",
       "  </tbody>\n",
       "</table>\n"
      ],
      "text/plain": [
       "<pandas.io.formats.style.Styler at 0x22f718abec0>"
      ]
     },
     "metadata": {},
     "output_type": "display_data"
    },
    {
     "data": {
      "image/png": "[encoded data removed]",
      "text/plain": [
       "<Figure size 1200x900 with 1 Axes>"
      ]
     },
     "metadata": {},
     "output_type": "display_data"
    }
   ],
   "source": [
    "fml = \" ~ {np.ones_like(Duration_Month)}\"\n",
    "fit_and_display(fml)"
   ]
  },
  {
   "cell_type": "markdown",
   "metadata": {},
   "source": [
    "## Main effects model"
   ]
  },
  {
   "cell_type": "code",
   "execution_count": 5,
   "metadata": {
    "execution": {
     "iopub.execute_input": "2024-07-20T16:36:49.269513Z",
     "iopub.status.busy": "2024-07-20T16:36:49.269513Z",
     "iopub.status.idle": "2024-07-20T16:38:28.225607Z",
     "shell.execute_reply": "2024-07-20T16:38:28.225607Z",
     "shell.execute_reply.started": "2024-07-20T16:36:49.269513Z"
    }
   },
   "outputs": [
    {
     "name": "stdout",
     "output_type": "stream",
     "text": [
      "--------------------------------------------\n",
      "Run 1:\n",
      "--------------------------------------------\n",
      "--------------------------------------------\n",
      "Run 2:\n",
      "--------------------------------------------\n",
      "--------------------------------------------\n",
      "Run 3:\n",
      "--------------------------------------------\n",
      "--------------------------------------------\n",
      "Run 4:\n",
      "--------------------------------------------\n",
      "--------------------------------------------\n",
      "Run 5:\n",
      "--------------------------------------------\n",
      "--------------------------------------------\n",
      "Run 6:\n",
      "--------------------------------------------\n"
     ]
    },
    {
     "data": {
      "text/html": [
       "<style type=\"text/css\">\n",
       "</style>\n",
       "<table id=\"T_069e1\">\n",
       "  <caption>Train and test loss on 6 iterations</caption>\n",
       "  <thead>\n",
       "    <tr>\n",
       "      <th class=\"blank level0\" >&nbsp;</th>\n",
       "      <th id=\"T_069e1_level0_col0\" class=\"col_heading level0 col0\" >mean</th>\n",
       "      <th id=\"T_069e1_level0_col1\" class=\"col_heading level0 col1\" >std</th>\n",
       "    </tr>\n",
       "  </thead>\n",
       "  <tbody>\n",
       "    <tr>\n",
       "      <th id=\"T_069e1_level0_row0\" class=\"row_heading level0 row0\" >train</th>\n",
       "      <td id=\"T_069e1_row0_col0\" class=\"data row0 col0\" >542</td>\n",
       "      <td id=\"T_069e1_row0_col1\" class=\"data row0 col1\" >1</td>\n",
       "    </tr>\n",
       "    <tr>\n",
       "      <th id=\"T_069e1_level0_row1\" class=\"row_heading level0 row1\" >test</th>\n",
       "      <td id=\"T_069e1_row1_col0\" class=\"data row1 col0\" >544</td>\n",
       "      <td id=\"T_069e1_row1_col1\" class=\"data row1 col1\" >3</td>\n",
       "    </tr>\n",
       "  </tbody>\n",
       "</table>\n"
      ],
      "text/plain": [
       "<pandas.io.formats.style.Styler at 0x22f133ed280>"
      ]
     },
     "metadata": {},
     "output_type": "display_data"
    },
    {
     "data": {
      "image/png": "[encoded data removed]",
      "text/plain": [
       "<Figure size 1200x900 with 1 Axes>"
      ]
     },
     "metadata": {},
     "output_type": "display_data"
    }
   ],
   "source": [
    "# Input variables to use\n",
    "allvars = nm_cat + nm_num\n",
    "\n",
    "# Formula for main effects\n",
    "ttlist = [var for var in allvars]\n",
    "\n",
    "# # Choose this formula for semi-parametric model with splines on the numerical \n",
    "# # variables\n",
    "# ttlist = [var if (var in nm_cat) \n",
    "#             else \"bs(\" + var + \", df=5, degree=3, extrapolation='extend')\" \n",
    "#         for var in allvars]\n",
    "\n",
    "fml = \"~ \" + \"+\".join(ttlist)\n",
    "fit_and_display(fml)"
   ]
  },
  {
   "cell_type": "markdown",
   "metadata": {},
   "source": [
    "The model overfits somewhat with `pct=0.3`. The reader can easily verify using `pct=1` that the model underfits with larger amounts of data. "
   ]
  },
  {
   "cell_type": "code",
   "execution_count": 6,
   "metadata": {
    "execution": {
     "iopub.execute_input": "2024-07-20T16:38:28.225607Z",
     "iopub.status.busy": "2024-07-20T16:38:28.225607Z",
     "iopub.status.idle": "2024-07-20T16:38:28.232188Z",
     "shell.execute_reply": "2024-07-20T16:38:28.232188Z",
     "shell.execute_reply.started": "2024-07-20T16:38:28.225607Z"
    }
   },
   "outputs": [
    {
     "name": "stdout",
     "output_type": "stream",
     "text": [
      "Time it took: 2.0min.\n"
     ]
    }
   ],
   "source": [
    "print(f\"Time it took: {np.ceil((time.time() - tic)/60)}min.\")"
   ]
  }
 ],
 "metadata": {
  "kernelspec": {
   "display_name": "Python 3 (ipykernel)",
   "language": "python",
   "name": "python3"
  },
  "language_info": {
   "codemirror_mode": {
    "name": "ipython",
    "version": 3
   },
   "file_extension": ".py",
   "mimetype": "text/x-python",
   "name": "python",
   "nbconvert_exporter": "python",
   "pygments_lexer": "ipython3",
   "version": "3.12.1"
  }
 },
 "nbformat": 4,
 "nbformat_minor": 4
}
