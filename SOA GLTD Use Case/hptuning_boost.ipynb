{
 "cells": [
  {
   "cell_type": "markdown",
   "metadata": {},
   "source": [
    "<!-- Simon-Style -->\n",
    "<p style=\"font-size:19px; text-align:left; margin-top:    15px;\"><i>German Association of Actuaries (DAV) — Working Group \"Explainable Artificial Intelligence\"</i></p>\n",
    "<p style=\"font-size:25px; text-align:left; margin-bottom: 15px\"><b>Use Case SOA GLTD Experience Study:<br>\n",
    "Gradient Boosting - Hyper Parameters\n",
    "</b></p>\n",
    "<p style=\"font-size:19px; text-align:left; margin-bottom: 15px; margin-bottom: 15px\">Guido Grützner (<a href=\"mailto:guido.gruetzner@quantakt.com\">guido.gruetzner@quantakt.com</a>)"
   ]
  },
  {
   "cell_type": "markdown",
   "metadata": {},
   "source": [
    "# Introduction\n",
    "\n",
    "This report performs a grid search for tuning parameters `learning_rate` and `max_leaf_nodes` for Histogram-based Gradient Boosting Classification Trees. \n",
    "\n",
    "Optimal hyperparameters are pct-dependent (see further information on `pct` in the text before the last cell of \"Initialisation\" below). Recommendation: `pct=0.3` with `learning_rate` 0.025 is a good compromise. For `pct=1` you can decrease the learning rate further for a (small?) improvement in predictive quality, but this will require more execution time per fit. For a given pct value, time required for a single fit is roughly  proportional to `learning_rate`. I.e. learning rate 0.025 will be roughly 3 times faster than 0.0075. \n",
    "\n",
    "As-is, this notebook takes about 20 min to run."
   ]
  },
  {
   "cell_type": "markdown",
   "metadata": {},
   "source": [
    "# Initialisation"
   ]
  },
  {
   "cell_type": "code",
   "execution_count": 1,
   "metadata": {
    "execution": {
     "iopub.execute_input": "2025-01-07T13:44:46.122111Z",
     "iopub.status.busy": "2025-01-07T13:44:46.122111Z",
     "iopub.status.idle": "2025-01-07T13:44:47.028370Z",
     "shell.execute_reply": "2025-01-07T13:44:47.028370Z",
     "shell.execute_reply.started": "2025-01-07T13:44:46.122111Z"
    }
   },
   "outputs": [],
   "source": [
    "from sklearn.ensemble import HistGradientBoostingClassifier\n",
    "\n",
    "from sklearn.model_selection import \\\n",
    "    GroupShuffleSplit, GridSearchCV\n",
    "\n",
    "import gltd_utilities\n",
    "\n",
    "import time\n",
    "import numpy as np\n",
    "import pandas as pd\n",
    "pd.options.mode.copy_on_write = True\n",
    "\n",
    "# adjust accordingly to your hardware, \n",
    "# more CPUs is faster but then the script may block your machine\n",
    "import os\n",
    "os.environ['LOKY_MAX_CPU_COUNT'] = '4'"
   ]
  },
  {
   "cell_type": "markdown",
   "metadata": {},
   "source": [
    "* Adapt the path for the data file in the call of `load_gltd_data`, if necessary.\n",
    "* Adapt `pct` to your requirements for anything between  $0.05\\leq pct\\leq1$. \n",
    "* Input 1 uses all data available, lower numbers the respective fraction. Below 0.05 predictions become somewhat volatile."
   ]
  },
  {
   "cell_type": "code",
   "execution_count": 2,
   "metadata": {
    "execution": {
     "iopub.execute_input": "2025-01-07T13:44:47.028370Z",
     "iopub.status.busy": "2025-01-07T13:44:47.028370Z",
     "iopub.status.idle": "2025-01-07T13:44:47.503734Z",
     "shell.execute_reply": "2025-01-07T13:44:47.503734Z",
     "shell.execute_reply.started": "2025-01-07T13:44:47.028370Z"
    }
   },
   "outputs": [
    {
     "data": {
      "text/plain": [
       "'202208864442763689745147491085394347929'"
      ]
     },
     "execution_count": 2,
     "metadata": {},
     "output_type": "execute_result"
    }
   ],
   "source": [
    "(X, Y, ID, nm_cat, nm_num, seed, rng) = gltd_utilities.load_gltd_data(\"./\", pct=0.3)\n",
    "seed"
   ]
  },
  {
   "cell_type": "markdown",
   "metadata": {},
   "source": [
    "# Gridsearch"
   ]
  },
  {
   "cell_type": "code",
   "execution_count": 3,
   "metadata": {
    "execution": {
     "iopub.execute_input": "2025-01-07T13:44:47.503734Z",
     "iopub.status.busy": "2025-01-07T13:44:47.503734Z",
     "iopub.status.idle": "2025-01-07T13:44:47.815740Z",
     "shell.execute_reply": "2025-01-07T13:44:47.815740Z",
     "shell.execute_reply.started": "2025-01-07T13:44:47.503734Z"
    }
   },
   "outputs": [],
   "source": [
    "train_indx, test_indx = next(\n",
    "    GroupShuffleSplit(random_state=rng.integers(low=0, high=1000)).split(X, groups=ID))\n",
    "xtrain, xtest = X.iloc[train_indx], X.iloc[test_indx] \n",
    "ytrain, ytest = Y.iloc[train_indx], Y.iloc[test_indx]\n",
    "idtrain, idtest = ID.iloc[train_indx], ID.iloc[test_indx]"
   ]
  },
  {
   "cell_type": "code",
   "execution_count": 4,
   "metadata": {
    "execution": {
     "iopub.execute_input": "2025-01-07T13:44:47.815740Z",
     "iopub.status.busy": "2025-01-07T13:44:47.815740Z",
     "iopub.status.idle": "2025-01-07T14:25:22.631880Z",
     "shell.execute_reply": "2025-01-07T14:25:22.631880Z",
     "shell.execute_reply.started": "2025-01-07T13:44:47.815740Z"
    }
   },
   "outputs": [
    {
     "name": "stdout",
     "output_type": "stream",
     "text": [
      "Fitting 5 folds for each of 9 candidates, totalling 45 fits\n",
      "[CV 1/5] END learning_rate=0.01, max_leaf_nodes=80;, score=-0.052 total time= 1.2min\n",
      "[CV 2/5] END learning_rate=0.01, max_leaf_nodes=80;, score=-0.053 total time= 1.1min\n",
      "[CV 3/5] END learning_rate=0.01, max_leaf_nodes=80;, score=-0.052 total time= 1.2min\n",
      "[CV 4/5] END learning_rate=0.01, max_leaf_nodes=80;, score=-0.052 total time= 1.3min\n",
      "[CV 5/5] END learning_rate=0.01, max_leaf_nodes=80;, score=-0.053 total time= 1.2min\n",
      "[CV 1/5] END learning_rate=0.01, max_leaf_nodes=100;, score=-0.052 total time= 1.2min\n",
      "[CV 2/5] END learning_rate=0.01, max_leaf_nodes=100;, score=-0.053 total time= 1.2min\n",
      "[CV 3/5] END learning_rate=0.01, max_leaf_nodes=100;, score=-0.052 total time= 1.2min\n",
      "[CV 4/5] END learning_rate=0.01, max_leaf_nodes=100;, score=-0.052 total time= 1.4min\n",
      "[CV 5/5] END learning_rate=0.01, max_leaf_nodes=100;, score=-0.053 total time= 1.2min\n",
      "[CV 1/5] END learning_rate=0.01, max_leaf_nodes=120;, score=-0.052 total time= 1.2min\n",
      "[CV 2/5] END learning_rate=0.01, max_leaf_nodes=120;, score=-0.053 total time= 2.0min\n",
      "[CV 3/5] END learning_rate=0.01, max_leaf_nodes=120;, score=-0.052 total time= 1.7min\n",
      "[CV 4/5] END learning_rate=0.01, max_leaf_nodes=120;, score=-0.052 total time= 1.3min\n",
      "[CV 5/5] END learning_rate=0.01, max_leaf_nodes=120;, score=-0.053 total time= 1.6min\n",
      "[CV 1/5] END learning_rate=0.025, max_leaf_nodes=80;, score=-0.052 total time=  44.0s\n",
      "[CV 2/5] END learning_rate=0.025, max_leaf_nodes=80;, score=-0.053 total time=  50.0s\n",
      "[CV 3/5] END learning_rate=0.025, max_leaf_nodes=80;, score=-0.052 total time=  44.4s\n",
      "[CV 4/5] END learning_rate=0.025, max_leaf_nodes=80;, score=-0.052 total time=  51.2s\n",
      "[CV 5/5] END learning_rate=0.025, max_leaf_nodes=80;, score=-0.053 total time=  48.4s\n",
      "[CV 1/5] END learning_rate=0.025, max_leaf_nodes=100;, score=-0.052 total time=  49.2s\n",
      "[CV 2/5] END learning_rate=0.025, max_leaf_nodes=100;, score=-0.053 total time=  48.1s\n",
      "[CV 3/5] END learning_rate=0.025, max_leaf_nodes=100;, score=-0.052 total time=  47.9s\n",
      "[CV 4/5] END learning_rate=0.025, max_leaf_nodes=100;, score=-0.052 total time=  44.5s\n",
      "[CV 5/5] END learning_rate=0.025, max_leaf_nodes=100;, score=-0.053 total time=  32.3s\n",
      "[CV 1/5] END learning_rate=0.025, max_leaf_nodes=120;, score=-0.052 total time=  40.1s\n",
      "[CV 2/5] END learning_rate=0.025, max_leaf_nodes=120;, score=-0.053 total time=  37.0s\n",
      "[CV 3/5] END learning_rate=0.025, max_leaf_nodes=120;, score=-0.052 total time=  41.2s\n",
      "[CV 4/5] END learning_rate=0.025, max_leaf_nodes=120;, score=-0.052 total time=  42.7s\n",
      "[CV 5/5] END learning_rate=0.025, max_leaf_nodes=120;, score=-0.053 total time=  38.6s\n",
      "[CV 1/5] END learning_rate=0.03, max_leaf_nodes=80;, score=-0.052 total time=  29.8s\n",
      "[CV 2/5] END learning_rate=0.03, max_leaf_nodes=80;, score=-0.053 total time=  31.2s\n",
      "[CV 3/5] END learning_rate=0.03, max_leaf_nodes=80;, score=-0.052 total time=  31.1s\n",
      "[CV 4/5] END learning_rate=0.03, max_leaf_nodes=80;, score=-0.052 total time=  34.1s\n",
      "[CV 5/5] END learning_rate=0.03, max_leaf_nodes=80;, score=-0.053 total time=  32.1s\n",
      "[CV 1/5] END learning_rate=0.03, max_leaf_nodes=100;, score=-0.052 total time=  27.7s\n",
      "[CV 2/5] END learning_rate=0.03, max_leaf_nodes=100;, score=-0.053 total time=  31.5s\n",
      "[CV 3/5] END learning_rate=0.03, max_leaf_nodes=100;, score=-0.052 total time=  31.6s\n",
      "[CV 4/5] END learning_rate=0.03, max_leaf_nodes=100;, score=-0.052 total time=  34.5s\n",
      "[CV 5/5] END learning_rate=0.03, max_leaf_nodes=100;, score=-0.053 total time=  30.9s\n",
      "[CV 1/5] END learning_rate=0.03, max_leaf_nodes=120;, score=-0.052 total time=  30.6s\n",
      "[CV 2/5] END learning_rate=0.03, max_leaf_nodes=120;, score=-0.053 total time=  33.7s\n",
      "[CV 3/5] END learning_rate=0.03, max_leaf_nodes=120;, score=-0.052 total time=  31.7s\n",
      "[CV 4/5] END learning_rate=0.03, max_leaf_nodes=120;, score=-0.052 total time=  33.8s\n",
      "[CV 5/5] END learning_rate=0.03, max_leaf_nodes=120;, score=-0.053 total time=  28.5s\n"
     ]
    },
    {
     "data": {
      "text/html": [
       "<div>\n",
       "<style scoped>\n",
       "    .dataframe tbody tr th:only-of-type {\n",
       "        vertical-align: middle;\n",
       "    }\n",
       "\n",
       "    .dataframe tbody tr th {\n",
       "        vertical-align: top;\n",
       "    }\n",
       "\n",
       "    .dataframe thead th {\n",
       "        text-align: right;\n",
       "    }\n",
       "</style>\n",
       "<table border=\"1\" class=\"dataframe\">\n",
       "  <thead>\n",
       "    <tr style=\"text-align: right;\">\n",
       "      <th></th>\n",
       "      <th>mean_fit_time</th>\n",
       "      <th>std_fit_time</th>\n",
       "      <th>mean_score_time</th>\n",
       "      <th>std_score_time</th>\n",
       "      <th>param_learning_rate</th>\n",
       "      <th>param_max_leaf_nodes</th>\n",
       "      <th>params</th>\n",
       "      <th>split0_test_score</th>\n",
       "      <th>split1_test_score</th>\n",
       "      <th>split2_test_score</th>\n",
       "      <th>split3_test_score</th>\n",
       "      <th>split4_test_score</th>\n",
       "      <th>mean_test_score</th>\n",
       "      <th>std_test_score</th>\n",
       "      <th>rank_test_score</th>\n",
       "    </tr>\n",
       "  </thead>\n",
       "  <tbody>\n",
       "    <tr>\n",
       "      <th>0</th>\n",
       "      <td>65.921828</td>\n",
       "      <td>3.833313</td>\n",
       "      <td>6.080504</td>\n",
       "      <td>0.361877</td>\n",
       "      <td>0.01</td>\n",
       "      <td>80</td>\n",
       "      <td>{'learning_rate': 0.01, 'max_leaf_nodes': 80}</td>\n",
       "      <td>-0.052138</td>\n",
       "      <td>-0.053258</td>\n",
       "      <td>-0.051852</td>\n",
       "      <td>-0.051589</td>\n",
       "      <td>-0.053118</td>\n",
       "      <td>-0.052391</td>\n",
       "      <td>0.000675</td>\n",
       "      <td>1</td>\n",
       "    </tr>\n",
       "    <tr>\n",
       "      <th>1</th>\n",
       "      <td>67.621828</td>\n",
       "      <td>3.615670</td>\n",
       "      <td>6.056598</td>\n",
       "      <td>0.422609</td>\n",
       "      <td>0.01</td>\n",
       "      <td>100</td>\n",
       "      <td>{'learning_rate': 0.01, 'max_leaf_nodes': 100}</td>\n",
       "      <td>-0.052167</td>\n",
       "      <td>-0.053283</td>\n",
       "      <td>-0.051900</td>\n",
       "      <td>-0.051598</td>\n",
       "      <td>-0.053181</td>\n",
       "      <td>-0.052426</td>\n",
       "      <td>0.000683</td>\n",
       "      <td>2</td>\n",
       "    </tr>\n",
       "    <tr>\n",
       "      <th>2</th>\n",
       "      <td>86.950743</td>\n",
       "      <td>16.041092</td>\n",
       "      <td>7.057517</td>\n",
       "      <td>2.091277</td>\n",
       "      <td>0.01</td>\n",
       "      <td>120</td>\n",
       "      <td>{'learning_rate': 0.01, 'max_leaf_nodes': 120}</td>\n",
       "      <td>-0.052203</td>\n",
       "      <td>-0.053277</td>\n",
       "      <td>-0.051904</td>\n",
       "      <td>-0.051626</td>\n",
       "      <td>-0.053179</td>\n",
       "      <td>-0.052438</td>\n",
       "      <td>0.000671</td>\n",
       "      <td>3</td>\n",
       "    </tr>\n",
       "    <tr>\n",
       "      <th>3</th>\n",
       "      <td>44.296185</td>\n",
       "      <td>2.996142</td>\n",
       "      <td>3.385859</td>\n",
       "      <td>0.230172</td>\n",
       "      <td>0.025</td>\n",
       "      <td>80</td>\n",
       "      <td>{'learning_rate': 0.025, 'max_leaf_nodes': 80}</td>\n",
       "      <td>-0.052192</td>\n",
       "      <td>-0.053330</td>\n",
       "      <td>-0.051915</td>\n",
       "      <td>-0.051660</td>\n",
       "      <td>-0.053198</td>\n",
       "      <td>-0.052459</td>\n",
       "      <td>0.000680</td>\n",
       "      <td>4</td>\n",
       "    </tr>\n",
       "    <tr>\n",
       "      <th>4</th>\n",
       "      <td>41.423154</td>\n",
       "      <td>6.115008</td>\n",
       "      <td>3.070336</td>\n",
       "      <td>0.182183</td>\n",
       "      <td>0.025</td>\n",
       "      <td>100</td>\n",
       "      <td>{'learning_rate': 0.025, 'max_leaf_nodes': 100}</td>\n",
       "      <td>-0.052275</td>\n",
       "      <td>-0.053383</td>\n",
       "      <td>-0.051959</td>\n",
       "      <td>-0.051649</td>\n",
       "      <td>-0.053280</td>\n",
       "      <td>-0.052509</td>\n",
       "      <td>0.000701</td>\n",
       "      <td>6</td>\n",
       "    </tr>\n",
       "    <tr>\n",
       "      <th>5</th>\n",
       "      <td>36.932912</td>\n",
       "      <td>1.897958</td>\n",
       "      <td>3.103457</td>\n",
       "      <td>0.115718</td>\n",
       "      <td>0.025</td>\n",
       "      <td>120</td>\n",
       "      <td>{'learning_rate': 0.025, 'max_leaf_nodes': 120}</td>\n",
       "      <td>-0.052300</td>\n",
       "      <td>-0.053355</td>\n",
       "      <td>-0.052019</td>\n",
       "      <td>-0.051749</td>\n",
       "      <td>-0.053242</td>\n",
       "      <td>-0.052533</td>\n",
       "      <td>0.000650</td>\n",
       "      <td>8</td>\n",
       "    </tr>\n",
       "    <tr>\n",
       "      <th>6</th>\n",
       "      <td>29.039922</td>\n",
       "      <td>1.360811</td>\n",
       "      <td>2.722639</td>\n",
       "      <td>0.098517</td>\n",
       "      <td>0.03</td>\n",
       "      <td>80</td>\n",
       "      <td>{'learning_rate': 0.03, 'max_leaf_nodes': 80}</td>\n",
       "      <td>-0.052193</td>\n",
       "      <td>-0.053377</td>\n",
       "      <td>-0.051965</td>\n",
       "      <td>-0.051699</td>\n",
       "      <td>-0.053266</td>\n",
       "      <td>-0.052500</td>\n",
       "      <td>0.000690</td>\n",
       "      <td>5</td>\n",
       "    </tr>\n",
       "    <tr>\n",
       "      <th>7</th>\n",
       "      <td>28.615507</td>\n",
       "      <td>2.007628</td>\n",
       "      <td>2.715792</td>\n",
       "      <td>0.203726</td>\n",
       "      <td>0.03</td>\n",
       "      <td>100</td>\n",
       "      <td>{'learning_rate': 0.03, 'max_leaf_nodes': 100}</td>\n",
       "      <td>-0.052308</td>\n",
       "      <td>-0.053384</td>\n",
       "      <td>-0.051979</td>\n",
       "      <td>-0.051668</td>\n",
       "      <td>-0.053312</td>\n",
       "      <td>-0.052530</td>\n",
       "      <td>0.000698</td>\n",
       "      <td>7</td>\n",
       "    </tr>\n",
       "    <tr>\n",
       "      <th>8</th>\n",
       "      <td>29.095299</td>\n",
       "      <td>1.818937</td>\n",
       "      <td>2.661654</td>\n",
       "      <td>0.172794</td>\n",
       "      <td>0.03</td>\n",
       "      <td>120</td>\n",
       "      <td>{'learning_rate': 0.03, 'max_leaf_nodes': 120}</td>\n",
       "      <td>-0.052353</td>\n",
       "      <td>-0.053387</td>\n",
       "      <td>-0.052062</td>\n",
       "      <td>-0.051787</td>\n",
       "      <td>-0.053321</td>\n",
       "      <td>-0.052582</td>\n",
       "      <td>0.000655</td>\n",
       "      <td>9</td>\n",
       "    </tr>\n",
       "  </tbody>\n",
       "</table>\n",
       "</div>"
      ],
      "text/plain": [
       "   mean_fit_time  std_fit_time  mean_score_time  std_score_time  \\\n",
       "0      65.921828      3.833313         6.080504        0.361877   \n",
       "1      67.621828      3.615670         6.056598        0.422609   \n",
       "2      86.950743     16.041092         7.057517        2.091277   \n",
       "3      44.296185      2.996142         3.385859        0.230172   \n",
       "4      41.423154      6.115008         3.070336        0.182183   \n",
       "5      36.932912      1.897958         3.103457        0.115718   \n",
       "6      29.039922      1.360811         2.722639        0.098517   \n",
       "7      28.615507      2.007628         2.715792        0.203726   \n",
       "8      29.095299      1.818937         2.661654        0.172794   \n",
       "\n",
       "  param_learning_rate param_max_leaf_nodes  \\\n",
       "0                0.01                   80   \n",
       "1                0.01                  100   \n",
       "2                0.01                  120   \n",
       "3               0.025                   80   \n",
       "4               0.025                  100   \n",
       "5               0.025                  120   \n",
       "6                0.03                   80   \n",
       "7                0.03                  100   \n",
       "8                0.03                  120   \n",
       "\n",
       "                                            params  split0_test_score  \\\n",
       "0    {'learning_rate': 0.01, 'max_leaf_nodes': 80}          -0.052138   \n",
       "1   {'learning_rate': 0.01, 'max_leaf_nodes': 100}          -0.052167   \n",
       "2   {'learning_rate': 0.01, 'max_leaf_nodes': 120}          -0.052203   \n",
       "3   {'learning_rate': 0.025, 'max_leaf_nodes': 80}          -0.052192   \n",
       "4  {'learning_rate': 0.025, 'max_leaf_nodes': 100}          -0.052275   \n",
       "5  {'learning_rate': 0.025, 'max_leaf_nodes': 120}          -0.052300   \n",
       "6    {'learning_rate': 0.03, 'max_leaf_nodes': 80}          -0.052193   \n",
       "7   {'learning_rate': 0.03, 'max_leaf_nodes': 100}          -0.052308   \n",
       "8   {'learning_rate': 0.03, 'max_leaf_nodes': 120}          -0.052353   \n",
       "\n",
       "   split1_test_score  split2_test_score  split3_test_score  split4_test_score  \\\n",
       "0          -0.053258          -0.051852          -0.051589          -0.053118   \n",
       "1          -0.053283          -0.051900          -0.051598          -0.053181   \n",
       "2          -0.053277          -0.051904          -0.051626          -0.053179   \n",
       "3          -0.053330          -0.051915          -0.051660          -0.053198   \n",
       "4          -0.053383          -0.051959          -0.051649          -0.053280   \n",
       "5          -0.053355          -0.052019          -0.051749          -0.053242   \n",
       "6          -0.053377          -0.051965          -0.051699          -0.053266   \n",
       "7          -0.053384          -0.051979          -0.051668          -0.053312   \n",
       "8          -0.053387          -0.052062          -0.051787          -0.053321   \n",
       "\n",
       "   mean_test_score  std_test_score  rank_test_score  \n",
       "0        -0.052391        0.000675                1  \n",
       "1        -0.052426        0.000683                2  \n",
       "2        -0.052438        0.000671                3  \n",
       "3        -0.052459        0.000680                4  \n",
       "4        -0.052509        0.000701                6  \n",
       "5        -0.052533        0.000650                8  \n",
       "6        -0.052500        0.000690                5  \n",
       "7        -0.052530        0.000698                7  \n",
       "8        -0.052582        0.000655                9  "
      ]
     },
     "execution_count": 4,
     "metadata": {},
     "output_type": "execute_result"
    }
   ],
   "source": [
    "# Set up possible values of parameters to optimize over\n",
    "# These values are for demonstration purposes and can be freely varied\n",
    "pgrid = {\"learning_rate\": [0.01, 0.025, 0.03],\n",
    "         \"max_leaf_nodes\": [80, 100, 120]}\n",
    "\n",
    "tic = time.time()\n",
    "md = HistGradientBoostingClassifier(\n",
    "    max_iter=1000,\n",
    "    categorical_features=nm_cat,\n",
    "    random_state=rng.integers(low=0, high=1000))\n",
    "\n",
    "cv = GroupShuffleSplit(n_splits=5,\n",
    "                            random_state=rng.integers(low=0, high=1000))\n",
    "\n",
    "clf = GridSearchCV(estimator=md, param_grid=pgrid, cv=cv, \n",
    "                   scoring=\"neg_log_loss\", verbose=4)\n",
    "\n",
    "clf.fit(xtrain, ytrain, groups=idtrain)\n",
    "\n",
    "df = pd.DataFrame(clf.cv_results_)\n",
    "df"
   ]
  },
  {
   "cell_type": "markdown",
   "metadata": {},
   "source": [
    "# Result"
   ]
  },
  {
   "cell_type": "code",
   "execution_count": 5,
   "metadata": {
    "execution": {
     "iopub.execute_input": "2025-01-07T14:25:22.632888Z",
     "iopub.status.busy": "2025-01-07T14:25:22.632888Z",
     "iopub.status.idle": "2025-01-07T14:25:22.637742Z",
     "shell.execute_reply": "2025-01-07T14:25:22.637742Z",
     "shell.execute_reply.started": "2025-01-07T14:25:22.632888Z"
    }
   },
   "outputs": [
    {
     "data": {
      "text/plain": [
       "{'learning_rate': 0.01, 'max_leaf_nodes': 80}"
      ]
     },
     "execution_count": 5,
     "metadata": {},
     "output_type": "execute_result"
    }
   ],
   "source": [
    "clf.best_params_"
   ]
  },
  {
   "cell_type": "code",
   "execution_count": 6,
   "metadata": {
    "execution": {
     "iopub.execute_input": "2025-01-07T14:25:22.641273Z",
     "iopub.status.busy": "2025-01-07T14:25:22.640267Z",
     "iopub.status.idle": "2025-01-07T14:25:22.645938Z",
     "shell.execute_reply": "2025-01-07T14:25:22.645938Z",
     "shell.execute_reply.started": "2025-01-07T14:25:22.641273Z"
    }
   },
   "outputs": [
    {
     "data": {
      "text/plain": [
       "-0.05239086062346413"
      ]
     },
     "execution_count": 6,
     "metadata": {},
     "output_type": "execute_result"
    }
   ],
   "source": [
    "clf.best_score_"
   ]
  },
  {
   "cell_type": "markdown",
   "metadata": {},
   "source": [
    "# Sanity check"
   ]
  },
  {
   "cell_type": "markdown",
   "metadata": {},
   "source": [
    "The sanity check is performed to ensure that all outputs are indeed probabilities larger than zero and smaller than one, since both values are impossible values, given the use case. Beyond this simple check, calibration of the model is further evidenced by a calibration diagram in \"ana_fit\"."
   ]
  },
  {
   "cell_type": "code",
   "execution_count": 7,
   "metadata": {
    "execution": {
     "iopub.execute_input": "2025-01-07T14:25:22.646947Z",
     "iopub.status.busy": "2025-01-07T14:25:22.646947Z",
     "iopub.status.idle": "2025-01-07T14:26:05.395869Z",
     "shell.execute_reply": "2025-01-07T14:26:05.395869Z",
     "shell.execute_reply.started": "2025-01-07T14:25:22.646947Z"
    }
   },
   "outputs": [],
   "source": [
    "res = clf.best_estimator_.predict_proba(xtrain)[:,1]\n",
    "if np.isnan(res).any():\n",
    "    raise ValueError(\"Dreaded NaNs!\")\n",
    "if (res <= 0).any():\n",
    "    tt = sum(res == 0)\n",
    "    print(f\"Number of exact zero values in train: {tt}\")\n",
    "    if (res < 0).any():\n",
    "        raise ValueError(\"Dreaded Negatives!\")\n",
    "if (res >= 1).any():\n",
    "    tt = sum(res == 1)\n",
    "    print(f\"Number of exact one values in train: {tt}\")\n",
    "    if (res > 1).any():\n",
    "        raise ValueError(\"Dreaded Larger-Than-Ones!\")\n",
    "\n",
    "res = clf.best_estimator_.predict_proba(xtest)[:,1]\n",
    "if np.isnan(res).any():\n",
    "    raise ValueError(\"Dreaded NaNs!\")\n",
    "if (res <= 0).any():\n",
    "    tt = sum(res == 0)\n",
    "    print(f\"Number of exact zero values in test: {tt}\")\n",
    "    if (res < 0).any():\n",
    "        raise ValueError(\"Dreaded Negatives!\")\n",
    "if (res >= 1).any():\n",
    "    tt = sum(res == 1)\n",
    "    print(f\"Number of exact one values in test: {tt}\")\n",
    "    if (res > 1).any():\n",
    "        raise ValueError(\"Dreaded Larger-Than-Ones!\")"
   ]
  },
  {
   "cell_type": "code",
   "execution_count": 8,
   "metadata": {
    "execution": {
     "iopub.execute_input": "2025-01-07T14:26:05.396877Z",
     "iopub.status.busy": "2025-01-07T14:26:05.396877Z",
     "iopub.status.idle": "2025-01-07T14:26:05.401634Z",
     "shell.execute_reply": "2025-01-07T14:26:05.401634Z",
     "shell.execute_reply.started": "2025-01-07T14:26:05.396877Z"
    }
   },
   "outputs": [
    {
     "name": "stdout",
     "output_type": "stream",
     "text": [
      "Time it took: 42.0min.\n"
     ]
    }
   ],
   "source": [
    "print(f\"Time it took: {np.ceil((time.time() - tic)/60)}min.\")"
   ]
  }
 ],
 "metadata": {
  "kernelspec": {
   "display_name": "Python 3 (ipykernel)",
   "language": "python",
   "name": "python3"
  },
  "language_info": {
   "codemirror_mode": {
    "name": "ipython",
    "version": 3
   },
   "file_extension": ".py",
   "mimetype": "text/x-python",
   "name": "python",
   "nbconvert_exporter": "python",
   "pygments_lexer": "ipython3",
   "version": "3.12.1"
  }
 },
 "nbformat": 4,
 "nbformat_minor": 4
}
