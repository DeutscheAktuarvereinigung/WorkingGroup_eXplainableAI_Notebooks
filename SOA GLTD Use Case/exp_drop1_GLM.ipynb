{
 "cells": [
  {
   "cell_type": "markdown",
   "id": "76924ae4",
   "metadata": {},
   "source": [
    "<!-- Simon-Style -->\n",
    "<p style=\"font-size:19px; text-align:left; margin-top:    15px;\"><i>German Association of Actuaries (DAV) — Working Group \"Explainable Artificial Intelligence\"</i></p>\n",
    "<p style=\"font-size:25px; text-align:left; margin-bottom: 15px\"><b>Use Case SOA GLTD Experience Study:<br>\n",
    "GLM - Drop1 decrease in predictive performance\n",
    "</b></p>\n",
    "<p style=\"font-size:19px; text-align:left; margin-bottom: 15px; margin-bottom: 15px\">Guido Grützner (<a href=\"mailto:guido.gruetzner@quantakt.com\">guido.gruetzner@quantakt.com</a>)"
   ]
  },
  {
   "cell_type": "markdown",
   "id": "0ad700db",
   "metadata": {},
   "source": [
    "# Introduction"
   ]
  },
  {
   "cell_type": "markdown",
   "id": "925303e2",
   "metadata": {},
   "source": [
    "This notebook defines and calculates the explainability statistics \"drop1 decrease in predictive performance\" for the GLM. "
   ]
  },
  {
   "cell_type": "markdown",
   "id": "2a30d723-9968-444c-9d73-d5a2e1d83d89",
   "metadata": {},
   "source": [
    "## Issues with GLM coefficients"
   ]
  },
  {
   "cell_type": "markdown",
   "id": "8f401103-af53-4875-9298-7112c3329dbe",
   "metadata": {},
   "source": [
    "GLMs are sometimes denoted as being \"inherently explainable\". This is often just stated as a fact without providing further details, but is most likely due to two properties of GLM-models:\n",
    "\n",
    "* All features the model uses are known, since they have to be constructed explicitly by the modeller.\n",
    "* The impact of feature values on model values is evident from the linear structure of the model: model values are just feature values multiplied by constant coefficients.\n",
    "\n",
    "The two facts above, may suggest that all relevant explanations, in particular the importance of the input variables, can be (easily?) derived from the coefficients of the linear model. This report argues that this is not true in general but requires additional assumptions which are not met in the use case for the GLTD recovery rates. As a consequence, the report suggests a different approach to measure reliably variable importance for this use case.\n",
    "The idea to use the size of coefficients as a measure of variable importance stems from the impression that these coefficients, after suitable normalization, represent marginal effects, which is often described as \"the change of the independent variable after a one unit change of the dependent variable while all other variables remain fixed.\"\n",
    "\n",
    "Obviously, this assumes tacitly a main-effects-only model, since it is impossible to vary, say, $X_1$ while the features $X_1^2$ or $X_1 X_2$ remain unchanged. Furthermore, this is only true for main effects models with either identity link function or for explanations on the linear instead of the transformed scale. Recall that in our case of logistic regression the variable of interest, the recovery probability $\\pi,$ is linked to the linear predictor $X\\beta$ by the logit, i.e.\n",
    "\n",
    "$$ \\text{logit}(\\pi(\\beta)) = X\\beta $$\n",
    "or \n",
    "$$ \\pi(\\beta)= \\frac{\\exp X\\beta}{1 + \\exp X\\beta}$$\n",
    "\n",
    "and the change of $\\pi$, with respect to input $i$, i.e. the derivative $\\frac{\\partial \\pi}{\\partial X_i}$, is given by\n",
    "$$ \\frac{\\partial \\pi}{\\partial X_i}= \\beta_i \\frac{\\exp X\\beta}{(1 + \\exp X\\beta)^2.}$$ \n",
    "In contrast to the linear model with identity link, here the change does not depend only on $\\beta_i$ but on the values of all other coefficients and input values.\n",
    "Further complications arise from the use of categorical variables. One-Hot encoding creates dependent variables, where typically one level is dropped. But this means the coefficient of the dropped level is always zero, by definition, no matter the properties of the subgroup of the data with this level. In addition, the dropped level is completely arbitrary, which means that values of coefficients are dependent on the completely arbitrary coding scheme employed. This is also true for  coding schemes different from one-hot encoding, such as sum or orthogonal contrasts.\n",
    "One may propose as possible solution, to not drop levels after one hot encoding and resolve the singularity of the design matrix by regularization. But this solves only the technical problem, it does not solve the underlying conceptional issue. One hot encoded indicators are not independent, it is logically impossible, to vary one of those indicators while not changing the others. Of course, this is not only a challenge for variable importance by size of coefficient. Any variable importance method, which assigns importance scores to indicators of levels of a categorical variable, must address and solve this.  \n",
    "Finally, coefficients of levels are unrelated to the prevalence of the level in the data. Arguably, a large coefficient, which only applies to a tiny subgroup of the data, is less important, than the coefficient for a level applicable to the majority of the data. For continuous inputs this is to a certain addressed by normalization. But there seems to be no consensus, if and how categorical levels should be normalized to take size differences within a category into account.\n",
    "   \n",
    "As a consequence of the issues and observations above, the size of the coefficients is not pursued further as means to assign variable importance. But note that this conclusion is not shared by all machine learning frameworks.\n",
    "\n",
    "H2O states: \"[GLM/GAM: Variable importance represents the coefficient magnitudes.](https://docs.h2o.ai/h2o/latest-stable/h2o-docs/variable-importance.html#glm-gam)\"  Caret does something even more unusual. The description of the function `varImp` states: \"[Linear Models: the absolute value of the t-statistic for each model parameter is used.](https://topepo.github.io/caret/variable-importance.html#model-specific-metrics)\" Scikit-learn does discuss the [interpretation of coefficients](https://scikit-learn.org/stable/auto_examples/inspection/plot_linear_model_coefficient_interpretation.html) thoroughly but does not suggest their size as indication of importance.\n",
    "\n",
    "Further discussion and examples on the connection between coefficients and variable importance in least squares models with identity link case and continuous inputs can be found in the report \"report_scr_maineff.html\"."
   ]
  },
  {
   "cell_type": "markdown",
   "id": "a7283993-a44a-4544-b784-dbb137a90ed1",
   "metadata": {},
   "source": [
    "## Drop 1 decrease in predictive power"
   ]
  },
  {
   "cell_type": "markdown",
   "id": "b962a1d6",
   "metadata": {},
   "source": [
    "Drop1 is a simple and straightforward approach to variable importance. The importance of a variable is defined as the decrease in predictive power if this variable is dropped from the set of available inputs. Predictive power is measured, as always, by the loss on a test set. \n",
    "\n",
    "The method is implemented in the code below as follows:\n",
    "1. Fix a train and test set.\n",
    "2. Fit the base model on the train set and record its loss on the test set.\n",
    "3. Loop through all available input variables:\n",
    "    1. Call the current input variable `curval`\n",
    "    2. Fit the model on the train set using all inputs except `curval`. Record the loss on the test set of this model.\n",
    "4. Calculate the difference (i.e. increase) in loss between the base model and each model with an input dropped.\n",
    "5. Output the list of variables sorted by the difference.\n",
    "\n",
    "The most important, i.e. the highest ranked, variable will be that variable which has the worst, i.e. largest, loss. The full model, called below \"none\" because no variable has been dropped, will always have the lowest loss, i.e. it should be ranked at the bottom. Up to sampling error, of course.\n",
    "\n",
    "The ranking suffers from substantial sampling error, even for large samples. To show this, the algorithm above will be run a number of times on bootstrapped train/test sets so that the respective rankings can be compared.  "
   ]
  },
  {
   "cell_type": "markdown",
   "id": "36032c49",
   "metadata": {},
   "source": [
    "## Properties"
   ]
  },
  {
   "cell_type": "markdown",
   "id": "054aa94f",
   "metadata": {},
   "source": [
    "Variable importance by decrease in predictive power has some appealing properties:\n",
    "* Straightforward to explain, even to non-experts.\n",
    "* Direct and obvious connection between variable importance and the purpose of the model.\n",
    "* Completely model agnostic.\n",
    "* Works in the same way for all loss functions\n",
    "* Works in the same way for all input types, i.e. numerical, categorical, no matter what the encoding.\n",
    "* Does not suffer from the impossible data problem.  \n",
    "* Easy to implement.\n",
    "\n",
    "Sadly, it comes also with some disadvantages:\n",
    "* Each model has to be refitted. Depending on the type of model, this iterative refitting may be more efficient, since some information (such as the design matrix) can be shared. But in general, the computational demands are of the order of $d*M$, where $d$ is the number of inputs and $M$ the effort to fit the base model. \n",
    "* Decrease in predictive power does not explain the original full model, it explains the importance of a variable in the modelling process.\n",
    "* It suffers from the dependence issue. For example, if the inputs contain two variables with very similar information content, each variable is assigned low importance, since the presence of only one of the two variables suffices to make predictions. Only when the two are dropped jointly, their importance will become visible.\n",
    "\n",
    "The dependence problem could be fixed by Shapley attribution (see the notebook \"report_scr_interaction\"). But this does not work here due to computational resource limitations. "
   ]
  },
  {
   "cell_type": "markdown",
   "id": "dee7a76a",
   "metadata": {},
   "source": [
    "# Initialisation"
   ]
  },
  {
   "cell_type": "code",
   "execution_count": 1,
   "id": "22a918dc-03d1-4cc9-a214-efe95c72e223",
   "metadata": {
    "execution": {
     "iopub.execute_input": "2024-07-11T10:48:21.582367Z",
     "iopub.status.busy": "2024-07-11T10:48:21.582367Z",
     "iopub.status.idle": "2024-07-11T10:48:23.474195Z",
     "shell.execute_reply": "2024-07-11T10:48:23.474195Z",
     "shell.execute_reply.started": "2024-07-11T10:48:21.582367Z"
    }
   },
   "outputs": [],
   "source": [
    "from glum import GeneralizedLinearRegressor\n",
    "from scipy.stats import rankdata\n",
    "\n",
    "from sklearn.model_selection import GroupShuffleSplit\n",
    "from sklearn.metrics import log_loss\n",
    "\n",
    "import matplotlib.pyplot as plt\n",
    "\n",
    "# adjust according to your age and vision\n",
    "plt.rcParams['axes.titlesize'] = 20   # Title font size\n",
    "plt.rcParams['axes.labelsize'] = 15   # Axis label font size\n",
    "plt.rcParams['xtick.labelsize'] = 12  # X-axis tick label font size\n",
    "plt.rcParams['ytick.labelsize'] = 12  # Y-axis tick label font size \n",
    "\n",
    "import os\n",
    "import pickle\n",
    "\n",
    "import gltd_utilities\n",
    "\n",
    "import warnings\n",
    "import time\n",
    "import numpy as np\n",
    "import pandas as pd\n",
    "pd.options.mode.copy_on_write = True"
   ]
  },
  {
   "cell_type": "markdown",
   "id": "e15f840e",
   "metadata": {},
   "source": [
    "To run the notebook:\n",
    "\n",
    "* Adapt the path for the data file in the call of `load_gltd_data`, if necessary.\n",
    "* Adapt pct to your requirements for anything between  $0.05\\leq pct\\leq1$. \n",
    "* Input 1 uses all data available, lower numbers the respective fraction. Below 0.05 predictions become somehwat volatile."
   ]
  },
  {
   "cell_type": "code",
   "execution_count": 2,
   "id": "19dd25c3",
   "metadata": {
    "execution": {
     "iopub.execute_input": "2024-07-11T10:48:23.474195Z",
     "iopub.status.busy": "2024-07-11T10:48:23.474195Z",
     "iopub.status.idle": "2024-07-11T10:48:26.074601Z",
     "shell.execute_reply": "2024-07-11T10:48:26.074601Z",
     "shell.execute_reply.started": "2024-07-11T10:48:23.474195Z"
    }
   },
   "outputs": [
    {
     "data": {
      "text/plain": [
       "'170300352323865877625718136349231958513'"
      ]
     },
     "execution_count": 2,
     "metadata": {},
     "output_type": "execute_result"
    }
   ],
   "source": [
    "tic = time.time()\n",
    "path_to_data = \"./\"\n",
    "(X, Y, ID, nm_cat, nm_num, seed, rng) = gltd_utilities.load_gltd_data(\n",
    "                                            path_to_data, pct=0.3)\n",
    "seed"
   ]
  },
  {
   "cell_type": "code",
   "execution_count": 12,
   "id": "f0e6a2f1",
   "metadata": {},
   "outputs": [],
   "source": [
    "# file for cached bootstrap\n",
    "cachefile = path_to_data + \"cache_drop1_GLM.pkl\""
   ]
  },
  {
   "cell_type": "markdown",
   "id": "19655713",
   "metadata": {},
   "source": [
    "## GLM definition"
   ]
  },
  {
   "cell_type": "code",
   "execution_count": 3,
   "id": "688fb9a4",
   "metadata": {
    "execution": {
     "iopub.execute_input": "2024-07-11T10:48:26.074601Z",
     "iopub.status.busy": "2024-07-11T10:48:26.074601Z",
     "iopub.status.idle": "2024-07-11T10:48:26.081330Z",
     "shell.execute_reply": "2024-07-11T10:48:26.081330Z",
     "shell.execute_reply.started": "2024-07-11T10:48:26.074601Z"
    }
   },
   "outputs": [],
   "source": [
    "# function for all model definitions\n",
    "def fun_md(fitvars):\n",
    "\n",
    "    fml = \"~ \" + \"+\".join(fitvars)\n",
    "\n",
    "    return(GeneralizedLinearRegressor(\n",
    "    l1_ratio=0.0,\n",
    "    alpha=1e-6,\n",
    "    family=\"binomial\", \n",
    "    link=\"logit\",\n",
    "    fit_intercept=True,\n",
    "    drop_first=True,\n",
    "    formula = fml\n",
    "    ))"
   ]
  },
  {
   "cell_type": "markdown",
   "id": "5c0f8995",
   "metadata": {},
   "source": [
    "## Drop1 loop"
   ]
  },
  {
   "cell_type": "markdown",
   "id": "9631cf27",
   "metadata": {},
   "source": [
    "This block implements the algorithm described above. The expression ``GroupShuffleSplit`` parameterize the train/test split and the number of bootstrap repetitions. If you do not want to use the cached data, a first very quick run could use, e.g. n_split=2 and train_size=0.1, test_size=0.03."
   ]
  },
  {
   "cell_type": "code",
   "execution_count": 4,
   "id": "5dacba67-56c3-4a02-b895-77fe44024d43",
   "metadata": {
    "execution": {
     "iopub.execute_input": "2024-07-11T10:48:26.081330Z",
     "iopub.status.busy": "2024-07-11T10:48:26.081330Z",
     "iopub.status.idle": "2024-07-11T11:33:54.649367Z",
     "shell.execute_reply": "2024-07-11T11:33:54.649367Z",
     "shell.execute_reply.started": "2024-07-11T10:48:26.081330Z"
    }
   },
   "outputs": [
    {
     "name": "stdout",
     "output_type": "stream",
     "text": [
      "--------------------------------------------\n",
      "Run 1:\n",
      "--------------------------------------------\n",
      "--------------------------------------------\n",
      "Run 2:\n",
      "--------------------------------------------\n",
      "--------------------------------------------\n",
      "Run 3:\n",
      "--------------------------------------------\n",
      "--------------------------------------------\n",
      "Run 4:\n",
      "--------------------------------------------\n",
      "--------------------------------------------\n",
      "Run 5:\n",
      "--------------------------------------------\n",
      "--------------------------------------------\n",
      "Run 6:\n",
      "--------------------------------------------\n",
      "--------------------------------------------\n",
      "Run 7:\n",
      "--------------------------------------------\n",
      "--------------------------------------------\n",
      "Run 8:\n",
      "--------------------------------------------\n",
      "--------------------------------------------\n",
      "Run 9:\n",
      "--------------------------------------------\n",
      "--------------------------------------------\n",
      "Run 10:\n",
      "--------------------------------------------\n",
      "--------------------------------------------\n",
      "Run 11:\n",
      "--------------------------------------------\n",
      "--------------------------------------------\n",
      "Run 12:\n",
      "--------------------------------------------\n",
      "--------------------------------------------\n",
      "Run 13:\n",
      "--------------------------------------------\n",
      "--------------------------------------------\n",
      "Run 14:\n",
      "--------------------------------------------\n",
      "--------------------------------------------\n",
      "Run 15:\n",
      "--------------------------------------------\n",
      "--------------------------------------------\n",
      "Run 16:\n",
      "--------------------------------------------\n",
      "--------------------------------------------\n",
      "Run 17:\n",
      "--------------------------------------------\n",
      "--------------------------------------------\n",
      "Run 18:\n",
      "--------------------------------------------\n",
      "--------------------------------------------\n",
      "Run 19:\n",
      "--------------------------------------------\n",
      "--------------------------------------------\n",
      "Run 20:\n",
      "--------------------------------------------\n",
      "--------------------------------------------\n",
      "Run 21:\n",
      "--------------------------------------------\n",
      "--------------------------------------------\n",
      "Run 22:\n",
      "--------------------------------------------\n",
      "--------------------------------------------\n",
      "Run 23:\n",
      "--------------------------------------------\n",
      "--------------------------------------------\n",
      "Run 24:\n",
      "--------------------------------------------\n",
      "--------------------------------------------\n",
      "Run 25:\n",
      "--------------------------------------------\n",
      "--------------------------------------------\n",
      "Run 26:\n",
      "--------------------------------------------\n",
      "--------------------------------------------\n",
      "Run 27:\n",
      "--------------------------------------------\n",
      "--------------------------------------------\n",
      "Run 28:\n",
      "--------------------------------------------\n",
      "--------------------------------------------\n",
      "Run 29:\n",
      "--------------------------------------------\n",
      "--------------------------------------------\n",
      "Run 30:\n",
      "--------------------------------------------\n"
     ]
    }
   ],
   "source": [
    "# Check for cache\n",
    "if os.path.exists(cachefile):\n",
    "    with open(cachefile, 'rb') as f:\n",
    "        cachedata = pickle.load(f)\n",
    "    \n",
    "    typelist = cachedata[\"typelist\"]\n",
    "    lltrainlist = cachedata[\"lltrainlist\"]\n",
    "    lltestlist = cachedata[\"lltestlist\"]\n",
    "    nsplit = cachedata[\"nsplit\"]\n",
    "    allvars = cachedata[\"allvars\"]\n",
    "\n",
    "else:\n",
    "    # Input variables to use\n",
    "    allvars = nm_cat + nm_num\n",
    "\n",
    "    gss = GroupShuffleSplit(n_splits=30, train_size=0.7,\n",
    "                            random_state=rng.integers(low=0, high=1000))\n",
    "    nsplit = gss.get_n_splits()\n",
    "    \n",
    "    # container for results\n",
    "    typelist = list()\n",
    "    lltrainlist = list()\n",
    "    lltestlist = list()\n",
    "\n",
    "    for ii, (trainidx, testidx) in enumerate(gss.split(X, groups= ID)):\n",
    "        print(\"--------------------------------------------\")\n",
    "        print(f\"Run {ii + 1}:\")\n",
    "        print(\"--------------------------------------------\")\n",
    "\n",
    "        xtrain, xtest = X.iloc[trainidx, :], X.iloc[testidx, :]\n",
    "        ytrain, ytest = Y.iloc[trainidx], Y.iloc[testidx]\n",
    "\n",
    "        # Fit full model\n",
    "        md = fun_md(allvars)\n",
    "        with warnings.catch_warnings():\n",
    "            warnings.simplefilter(\"ignore\", UserWarning)\n",
    "            md.fit(xtrain, ytrain)\n",
    "        \n",
    "        # performance statistics\n",
    "        with warnings.catch_warnings():\n",
    "            warnings.simplefilter(\"ignore\", UserWarning)\n",
    "            phat = {\"train\": md.predict(xtrain), \"test\": md.predict(xtest)}\n",
    "\n",
    "        typelist = typelist + [\"none\"]\n",
    "        lltrainlist = (lltrainlist \n",
    "                    + [log_loss(ytrain, phat[\"train\"])])\n",
    "        lltestlist = (lltestlist \n",
    "                    + [log_loss(ytest, phat[\"test\"])])\n",
    "        \n",
    "        # Loop over all drop1 models\n",
    "        for dropvar in allvars:\n",
    "            # print(dropvar)\n",
    "            \n",
    "            curvars = set(allvars) - {dropvar}\n",
    "            md = fun_md(list(curvars))\n",
    "\n",
    "            with warnings.catch_warnings():\n",
    "                warnings.simplefilter(\"ignore\", UserWarning)\n",
    "                md.fit(xtrain.drop(dropvar, axis=1), ytrain)\n",
    "\n",
    "            # performance statistics\n",
    "            with warnings.catch_warnings():\n",
    "                warnings.simplefilter(\"ignore\", UserWarning)\n",
    "                phat = {\"train\": md.predict(xtrain), \"test\": md.predict(xtest)}\n",
    "\n",
    "            typelist = typelist + [dropvar]\n",
    "            lltrainlist = (lltrainlist \n",
    "                    + [log_loss(ytrain, phat[\"train\"])])\n",
    "            lltestlist = (lltestlist \n",
    "                    + [log_loss(ytest, phat[\"test\"])])\n",
    "\n",
    "    # write results of bootstrap to disk\n",
    "    cachedata = {\"typelist\": typelist, \"lltrainlist\": lltrainlist,\n",
    "                \"lltestlist\": lltestlist, \n",
    "                \"nsplit\": nsplit,\n",
    "                \"allvars\": allvars}\n",
    "\n",
    "    with open(cachefile, 'wb') as f:\n",
    "            pickle.dump(cachedata, f)"
   ]
  },
  {
   "cell_type": "markdown",
   "id": "7ca419f6",
   "metadata": {},
   "source": [
    "## Analysis"
   ]
  },
  {
   "cell_type": "code",
   "execution_count": 5,
   "id": "df527189",
   "metadata": {
    "execution": {
     "iopub.execute_input": "2024-07-11T11:33:54.649367Z",
     "iopub.status.busy": "2024-07-11T11:33:54.649367Z",
     "iopub.status.idle": "2024-07-11T11:33:54.667919Z",
     "shell.execute_reply": "2024-07-11T11:33:54.667919Z",
     "shell.execute_reply.started": "2024-07-11T11:33:54.649367Z"
    }
   },
   "outputs": [
    {
     "data": {
      "text/html": [
       "<div>\n",
       "<style scoped>\n",
       "    .dataframe tbody tr th:only-of-type {\n",
       "        vertical-align: middle;\n",
       "    }\n",
       "\n",
       "    .dataframe tbody tr th {\n",
       "        vertical-align: top;\n",
       "    }\n",
       "\n",
       "    .dataframe thead th {\n",
       "        text-align: right;\n",
       "    }\n",
       "</style>\n",
       "<table border=\"1\" class=\"dataframe\">\n",
       "  <thead>\n",
       "    <tr style=\"text-align: right;\">\n",
       "      <th></th>\n",
       "      <th>decpp train</th>\n",
       "      <th>decpp test</th>\n",
       "    </tr>\n",
       "    <tr>\n",
       "      <th>dropped</th>\n",
       "      <th></th>\n",
       "      <th></th>\n",
       "    </tr>\n",
       "  </thead>\n",
       "  <tbody>\n",
       "    <tr>\n",
       "      <th>Original_Social_Security_Award_Status</th>\n",
       "      <td>32.9</td>\n",
       "      <td>32.8</td>\n",
       "    </tr>\n",
       "    <tr>\n",
       "      <th>OwnOccToAnyTransition</th>\n",
       "      <td>17.0</td>\n",
       "      <td>16.9</td>\n",
       "    </tr>\n",
       "    <tr>\n",
       "      <th>Diagnosis_Category</th>\n",
       "      <td>6.8</td>\n",
       "      <td>6.7</td>\n",
       "    </tr>\n",
       "    <tr>\n",
       "      <th>Updated_Social_Security_Award_Status</th>\n",
       "      <td>4.4</td>\n",
       "      <td>4.5</td>\n",
       "    </tr>\n",
       "    <tr>\n",
       "      <th>Elimination_Period</th>\n",
       "      <td>1.9</td>\n",
       "      <td>1.8</td>\n",
       "    </tr>\n",
       "    <tr>\n",
       "      <th>Duration_Month</th>\n",
       "      <td>1.3</td>\n",
       "      <td>1.3</td>\n",
       "    </tr>\n",
       "    <tr>\n",
       "      <th>Integration_with_STD</th>\n",
       "      <td>0.5</td>\n",
       "      <td>0.5</td>\n",
       "    </tr>\n",
       "    <tr>\n",
       "      <th>Benefit_Max_Limit_Proxy</th>\n",
       "      <td>0.5</td>\n",
       "      <td>0.5</td>\n",
       "    </tr>\n",
       "    <tr>\n",
       "      <th>Indexed_Monthly_Salary</th>\n",
       "      <td>0.0</td>\n",
       "      <td>0.4</td>\n",
       "    </tr>\n",
       "    <tr>\n",
       "      <th>M_N_Limit_Transition</th>\n",
       "      <td>0.4</td>\n",
       "      <td>0.4</td>\n",
       "    </tr>\n",
       "    <tr>\n",
       "      <th>Gross_Indexed_Benefit_Amount</th>\n",
       "      <td>0.1</td>\n",
       "      <td>0.1</td>\n",
       "    </tr>\n",
       "    <tr>\n",
       "      <th>COLA_Indicator</th>\n",
       "      <td>0.1</td>\n",
       "      <td>0.1</td>\n",
       "    </tr>\n",
       "    <tr>\n",
       "      <th>Taxability_of_Benefits</th>\n",
       "      <td>0.2</td>\n",
       "      <td>0.1</td>\n",
       "    </tr>\n",
       "    <tr>\n",
       "      <th>Industry</th>\n",
       "      <td>0.3</td>\n",
       "      <td>0.1</td>\n",
       "    </tr>\n",
       "    <tr>\n",
       "      <th>Residence_State</th>\n",
       "      <td>0.5</td>\n",
       "      <td>-0.0</td>\n",
       "    </tr>\n",
       "    <tr>\n",
       "      <th>Replacement_Ratio</th>\n",
       "      <td>0.0</td>\n",
       "      <td>0.0</td>\n",
       "    </tr>\n",
       "    <tr>\n",
       "      <th>Age_at_Disability</th>\n",
       "      <td>0.0</td>\n",
       "      <td>-0.0</td>\n",
       "    </tr>\n",
       "    <tr>\n",
       "      <th>Month_of_Study</th>\n",
       "      <td>0.1</td>\n",
       "      <td>0.0</td>\n",
       "    </tr>\n",
       "    <tr>\n",
       "      <th>Mental_and_Nervous_Period</th>\n",
       "      <td>0.1</td>\n",
       "      <td>0.0</td>\n",
       "    </tr>\n",
       "    <tr>\n",
       "      <th>Gender</th>\n",
       "      <td>0.1</td>\n",
       "      <td>0.0</td>\n",
       "    </tr>\n",
       "    <tr>\n",
       "      <th>Case_Size</th>\n",
       "      <td>0.1</td>\n",
       "      <td>0.0</td>\n",
       "    </tr>\n",
       "    <tr>\n",
       "      <th>Attained_Age</th>\n",
       "      <td>0.0</td>\n",
       "      <td>-0.0</td>\n",
       "    </tr>\n",
       "    <tr>\n",
       "      <th>none</th>\n",
       "      <td>0.0</td>\n",
       "      <td>0.0</td>\n",
       "    </tr>\n",
       "  </tbody>\n",
       "</table>\n",
       "</div>"
      ],
      "text/plain": [
       "                                       decpp train  decpp test\n",
       "dropped                                                       \n",
       "Original_Social_Security_Award_Status         32.9        32.8\n",
       "OwnOccToAnyTransition                         17.0        16.9\n",
       "Diagnosis_Category                             6.8         6.7\n",
       "Updated_Social_Security_Award_Status           4.4         4.5\n",
       "Elimination_Period                             1.9         1.8\n",
       "Duration_Month                                 1.3         1.3\n",
       "Integration_with_STD                           0.5         0.5\n",
       "Benefit_Max_Limit_Proxy                        0.5         0.5\n",
       "Indexed_Monthly_Salary                         0.0         0.4\n",
       "M_N_Limit_Transition                           0.4         0.4\n",
       "Gross_Indexed_Benefit_Amount                   0.1         0.1\n",
       "COLA_Indicator                                 0.1         0.1\n",
       "Taxability_of_Benefits                         0.2         0.1\n",
       "Industry                                       0.3         0.1\n",
       "Residence_State                                0.5        -0.0\n",
       "Replacement_Ratio                              0.0         0.0\n",
       "Age_at_Disability                              0.0        -0.0\n",
       "Month_of_Study                                 0.1         0.0\n",
       "Mental_and_Nervous_Period                      0.1         0.0\n",
       "Gender                                         0.1         0.0\n",
       "Case_Size                                      0.1         0.0\n",
       "Attained_Age                                   0.0        -0.0\n",
       "none                                           0.0         0.0"
      ]
     },
     "execution_count": 5,
     "metadata": {},
     "output_type": "execute_result"
    }
   ],
   "source": [
    "# remember: row-major!\n",
    "lltrainarr = 100**2 * np.array(lltrainlist).reshape(nsplit, 1 + len(allvars))\n",
    "lltestarr = 100**2 * np.array(lltestlist).reshape(nsplit, 1 + len(allvars))\n",
    "decpp_train = lltrainarr - lltrainarr[:,0].reshape(-1,1)\n",
    "decpp_test = lltestarr - lltestarr[:,0].reshape(-1,1)\n",
    "\n",
    "resdf = pd.DataFrame({\n",
    "    \"decpp train\": np.round(np.mean(decpp_train, axis=0),1),\n",
    "    \"decpp test\": np.round(np.mean(decpp_test, axis=0),1)},\n",
    "    index=typelist[:(1 + len(allvars))]\n",
    ")\n",
    "resdf.index.name = \"dropped\"\n",
    "resdf.sort_values([\"decpp test\"], ascending=False)"
   ]
  },
  {
   "cell_type": "code",
   "execution_count": 11,
   "id": "615da459",
   "metadata": {
    "execution": {
     "iopub.execute_input": "2024-07-11T11:33:54.667919Z",
     "iopub.status.busy": "2024-07-11T11:33:54.667919Z",
     "iopub.status.idle": "2024-07-11T11:33:54.971825Z",
     "shell.execute_reply": "2024-07-11T11:33:54.971825Z",
     "shell.execute_reply.started": "2024-07-11T11:33:54.667919Z"
    }
   },
   "outputs": [
    {
     "data": {
      "image/png": "[encoded data removed]",
      "text/plain": [
       "<Figure size 1200x900 with 1 Axes>"
      ]
     },
     "metadata": {},
     "output_type": "display_data"
    }
   ],
   "source": [
    "vi = 2 + len(allvars) - np.apply_along_axis(rankdata, 1, lltestarr)\n",
    "hilist = np.max(vi, axis=0)\n",
    "lolist = np.min(vi, axis=0)\n",
    "lims = [(lo, hi) for lo, hi in zip(lolist, hilist)]\n",
    "fig, ax = plt.subplots(figsize = (12,9))\n",
    "tmp = len(lims) - 1\n",
    "for i, (start, end) in enumerate(lims):\n",
    "    ax.plot([start, end],  [i, i], marker='o')\n",
    "    ax.plot([1, tmp+1],  [i, i], color=\"black\", lw=0.1)\n",
    "    ax.text(tmp + 2.5, i, typelist[i])\n",
    "ax.set_yticks([])\n",
    "ax.set_xticks([1,5,10,15,20,len(allvars) + 1])\n",
    "ax.grid(which=\"major\", axis=\"x\")\n",
    "ax.set_xlabel(\"Rank (lower is more important)\")\n",
    "# Remove bounding box (spines)\n",
    "ax.spines['top'].set_visible(False)\n",
    "ax.spines['right'].set_visible(False)\n",
    "ax.spines['bottom'].set_visible(False)\n",
    "ax.spines['left'].set_visible(False)\n",
    "dummy = ax.set_title(\"Bootstrapped Ranks of Variable Importance\")"
   ]
  },
  {
   "cell_type": "markdown",
   "id": "bca1f7fb",
   "metadata": {},
   "source": [
    "## Interpretation"
   ]
  },
  {
   "cell_type": "markdown",
   "id": "0e4151ed",
   "metadata": {},
   "source": [
    "The exhibit above provides evidence for the split of importance into two, maybe three groups:\n",
    "* The top variables, which are clearly important (ranks 5 and up). They are not only consistently ranked in the top group, but their relative position within this group are fixed. Those variables are\n",
    "  1. Original_Social_Security_Award_Status\n",
    "  2. OwnOccToAnyTransition\n",
    "  3. Diagnosis_Category\n",
    "  4. Updated_Social_Security_Award_Status\n",
    "  5. Duration_Month\n",
    "  6. Elimination_Period. \n",
    "* For all other inputs importance fluctuates wildly over a wide range. Ranks in this group seem to be mainly noise. For example, the entry \"none\" is the full model. Without sampling error, this entry should always be ranked 1 or last, as this is the run with all variables present or no variable dropped. This divergence is remarkable, given the very large sample size (test data is roughly 600K observations)."
   ]
  },
  {
   "cell_type": "code",
   "execution_count": 7,
   "id": "bb20482a",
   "metadata": {
    "execution": {
     "iopub.execute_input": "2024-07-11T11:33:54.975835Z",
     "iopub.status.busy": "2024-07-11T11:33:54.975835Z",
     "iopub.status.idle": "2024-07-11T11:33:54.982657Z",
     "shell.execute_reply": "2024-07-11T11:33:54.982657Z",
     "shell.execute_reply.started": "2024-07-11T11:33:54.975835Z"
    }
   },
   "outputs": [
    {
     "name": "stdout",
     "output_type": "stream",
     "text": [
      "Time it took: 87.0min.\n"
     ]
    }
   ],
   "source": [
    "print(f\"Time it took: {np.ceil((time.time() - tic)/60)}min.\")"
   ]
  }
 ],
 "metadata": {
  "kernelspec": {
   "display_name": "Python 3 (ipykernel)",
   "language": "python",
   "name": "python3"
  },
  "language_info": {
   "codemirror_mode": {
    "name": "ipython",
    "version": 3
   },
   "file_extension": ".py",
   "mimetype": "text/x-python",
   "name": "python",
   "nbconvert_exporter": "python",
   "pygments_lexer": "ipython3",
   "version": "3.12.1"
  }
 },
 "nbformat": 4,
 "nbformat_minor": 5
}
