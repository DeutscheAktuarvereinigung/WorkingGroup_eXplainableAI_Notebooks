{
 "cells": [
  {
   "cell_type": "markdown",
   "metadata": {},
   "source": [
    "<!-- Simon-Style -->\n",
    "<p style=\"font-size:19px; text-align:left; margin-top:    15px;\"><i>German Association of Actuaries (DAV) — Working Group \"Explainable Artificial Intelligence\"</i></p>\n",
    "<p style=\"font-size:25px; text-align:left; margin-bottom: 15px\"><b>Use Case SOA GLTD Experience Study:<br>\n",
    "Tree Model - Predictive Performance\n",
    "</b></p>\n",
    "<p style=\"font-size:19px; text-align:left; margin-bottom: 15px; margin-bottom: 15px\">Guido Grützner (<a href=\"mailto:guido.gruetzner@quantakt.com\">guido.gruetzner@quantakt.com</a>)"
   ]
  },
  {
   "cell_type": "markdown",
   "metadata": {},
   "source": [
    "# Introduction\n",
    "\n",
    "A tree is fitted with hyperparameters established in \"hptuning_tree.ipynb\" and its performance evaluated."
   ]
  },
  {
   "cell_type": "markdown",
   "metadata": {},
   "source": [
    "# Initialisation"
   ]
  },
  {
   "cell_type": "code",
   "execution_count": 1,
   "metadata": {
    "execution": {
     "iopub.execute_input": "2025-01-07T13:58:22.971267Z",
     "iopub.status.busy": "2025-01-07T13:58:22.971267Z",
     "iopub.status.idle": "2025-01-07T13:58:24.177304Z",
     "shell.execute_reply": "2025-01-07T13:58:24.177304Z",
     "shell.execute_reply.started": "2025-01-07T13:58:22.971267Z"
    }
   },
   "outputs": [],
   "source": [
    "from sklearn.tree import DecisionTreeClassifier\n",
    "\n",
    "from sklearn.preprocessing import OneHotEncoder\n",
    "from sklearn.compose import ColumnTransformer\n",
    "from sklearn.model_selection import GroupShuffleSplit\n",
    "from sklearn.metrics import log_loss\n",
    "\n",
    "from IPython.display import display\n",
    "import matplotlib.pyplot as plt\n",
    "\n",
    "# adjust according to your age and vision\n",
    "plt.rcParams['axes.titlesize'] = 20   # Title font size\n",
    "plt.rcParams['axes.labelsize'] = 15   # Axis label font size\n",
    "plt.rcParams['xtick.labelsize'] = 12  # X-axis tick label font size\n",
    "plt.rcParams['ytick.labelsize'] = 12  # Y-axis tick label font size \n",
    "\n",
    "import gltd_utilities\n",
    "\n",
    "import time\n",
    "import numpy as np\n",
    "import pandas as pd\n",
    "pd.options.mode.copy_on_write = True"
   ]
  },
  {
   "cell_type": "markdown",
   "metadata": {},
   "source": [
    "* Adapt the path for the data file in the call of `load_gltd_data`, if necessary.\n",
    "* Adapt pct to your requirements for anything between  $0.05\\leq pct\\leq1$. \n",
    "* Input 1 uses all data available, lower numbers the respective fraction. Below 0.05 predictions become somewhat volatile."
   ]
  },
  {
   "cell_type": "code",
   "execution_count": 2,
   "metadata": {
    "execution": {
     "iopub.execute_input": "2025-01-07T13:58:24.177304Z",
     "iopub.status.busy": "2025-01-07T13:58:24.177304Z",
     "iopub.status.idle": "2025-01-07T13:58:24.717839Z",
     "shell.execute_reply": "2025-01-07T13:58:24.717839Z",
     "shell.execute_reply.started": "2025-01-07T13:58:24.177304Z"
    }
   },
   "outputs": [
    {
     "data": {
      "text/plain": [
       "'180354989235769554012206344561277505996'"
      ]
     },
     "execution_count": 2,
     "metadata": {},
     "output_type": "execute_result"
    }
   ],
   "source": [
    "tic = time.time()\n",
    "(X, Y, ID, nm_cat, nm_num, seed, rng) = gltd_utilities.load_gltd_data(\n",
    "                                            \"./\", pct=0.3)\n",
    "seed"
   ]
  },
  {
   "cell_type": "markdown",
   "metadata": {},
   "source": [
    "# Evaluate"
   ]
  },
  {
   "cell_type": "markdown",
   "metadata": {},
   "source": [
    "The whole procedure of repeated fits and subsequent analysis is wrapped into the following function. To assess overfitting and prediction uncertainty, we show train and test loss for a number of bootstrap iterations.\n",
    "\n",
    "To enhance readability, log-loss is reported in bps (basis points), i.e. multiplied by 10'000 and rounded.  "
   ]
  },
  {
   "cell_type": "code",
   "execution_count": 3,
   "metadata": {
    "execution": {
     "iopub.execute_input": "2025-01-07T13:58:24.717839Z",
     "iopub.status.busy": "2025-01-07T13:58:24.717839Z",
     "iopub.status.idle": "2025-01-07T13:58:32.336303Z",
     "shell.execute_reply": "2025-01-07T13:58:32.336303Z",
     "shell.execute_reply.started": "2025-01-07T13:58:24.717839Z"
    }
   },
   "outputs": [],
   "source": [
    "ct = ColumnTransformer(\n",
    "        [(\"\", OneHotEncoder(drop=\"first\", sparse_output=False, dtype=int),\n",
    "                        nm_cat)], \n",
    "        remainder=\"passthrough\", verbose_feature_names_out=False)\n",
    "\n",
    "X_ohe = ct.fit_transform(X)"
   ]
  },
  {
   "cell_type": "code",
   "execution_count": 4,
   "metadata": {
    "execution": {
     "iopub.execute_input": "2025-01-07T13:58:32.336303Z",
     "iopub.status.busy": "2025-01-07T13:58:32.336303Z",
     "iopub.status.idle": "2025-01-07T13:58:32.348831Z",
     "shell.execute_reply": "2025-01-07T13:58:32.348831Z",
     "shell.execute_reply.started": "2025-01-07T13:58:32.336303Z"
    }
   },
   "outputs": [],
   "source": [
    "def fit_and_display():\n",
    "    \n",
    "    # the train-test splits to loop over, \n",
    "    # increase n_splits for more precise statistice \n",
    "    gss = GroupShuffleSplit(n_splits=6, train_size=0.7, test_size=0.3,\n",
    "                            random_state=rng.integers(low=0, high=1000))\n",
    "    \n",
    "    # container for results\n",
    "    lltrainlist = list()\n",
    "    lltestlist = list()\n",
    "    \n",
    "    for ii, (trainidx, testidx) in enumerate(gss.split(X_ohe, groups=ID)):\n",
    "        print(\"--------------------------------------------\")\n",
    "        print(f\"Run {ii + 1}:\")\n",
    "        print(\"--------------------------------------------\")\n",
    "    \n",
    "        xtrain, xtest = X_ohe[trainidx, :], X_ohe[testidx, :]\n",
    "        ytrain, ytest = Y.iloc[trainidx], Y.iloc[testidx]\n",
    "    \n",
    "        md = DecisionTreeClassifier(\n",
    "            random_state=rng.integers(low=0, high=1000),\n",
    "            max_depth=7, \n",
    "            criterion=\"log_loss\"\n",
    "            )\n",
    "        \n",
    "        md.fit(xtrain, ytrain)\n",
    "        \n",
    "        # performance statistics\n",
    "        phat = {\n",
    "            \"train\": md.predict_proba(xtrain)[:,1], \n",
    "            \"test\": md.predict_proba(xtest)[:,1]}\n",
    "        lltrainlist = (lltrainlist \n",
    "                       + [log_loss(ytrain, phat[\"train\"])])\n",
    "        lltestlist = (lltestlist \n",
    "                       + [log_loss(ytest, phat[\"test\"])])\n",
    "    \n",
    "    # Analysis\n",
    "    # remember: row-major!\n",
    "    lltrainarr = ( 100**2 \n",
    "                  * np.array(lltrainlist).reshape(gss.get_n_splits(), ))\n",
    "    lltestarr = (100**2 \n",
    "                  * np.array(lltestlist).reshape(gss.get_n_splits(), ))\n",
    "    \n",
    "    resdf = pd.DataFrame({\"mean\": [np.mean(lltrainarr), np.mean(lltestarr)],\n",
    "                          \"std\": [np.std(lltrainarr), np.std(lltestarr)]},\n",
    "                        index = [\"train\", \"test\"])\n",
    "    tmpdf = resdf.select_dtypes(include=['number'])\n",
    "    resdf[tmpdf.columns] = tmpdf.apply(lambda x: round(x,0)).astype(\"int\")\n",
    "    display(resdf.style.set_caption(f\"Train and test loss on {gss.get_n_splits()} iterations\"))\n",
    "    \n",
    "    fig, ax = plt.subplots(figsize = (12,9))\n",
    "    pltdf = pd.DataFrame({\"train\": lltrainarr, \"test\": lltestarr})\n",
    "    \n",
    "    ax.boxplot(pltdf, tick_labels=pltdf.columns)\n",
    "    ax.grid(which=\"major\", axis=\"y\")\n",
    "    ax.set_ylabel(\"Loss in bps\")\n",
    "    ax.set_title(\"Bootstrapped loss\")"
   ]
  },
  {
   "cell_type": "markdown",
   "metadata": {},
   "source": [
    "##  Run model"
   ]
  },
  {
   "cell_type": "code",
   "execution_count": 5,
   "metadata": {
    "execution": {
     "iopub.execute_input": "2025-01-07T13:58:32.348831Z",
     "iopub.status.busy": "2025-01-07T13:58:32.348831Z",
     "iopub.status.idle": "2025-01-07T14:01:34.726666Z",
     "shell.execute_reply": "2025-01-07T14:01:34.726666Z",
     "shell.execute_reply.started": "2025-01-07T13:58:32.348831Z"
    }
   },
   "outputs": [
    {
     "name": "stdout",
     "output_type": "stream",
     "text": [
      "--------------------------------------------\n",
      "Run 1:\n",
      "--------------------------------------------\n",
      "--------------------------------------------\n",
      "Run 2:\n",
      "--------------------------------------------\n",
      "--------------------------------------------\n",
      "Run 3:\n",
      "--------------------------------------------\n",
      "--------------------------------------------\n",
      "Run 4:\n",
      "--------------------------------------------\n",
      "--------------------------------------------\n",
      "Run 5:\n",
      "--------------------------------------------\n",
      "--------------------------------------------\n",
      "Run 6:\n",
      "--------------------------------------------\n"
     ]
    },
    {
     "data": {
      "text/html": [
       "<style type=\"text/css\">\n",
       "</style>\n",
       "<table id=\"T_abbe7\">\n",
       "  <caption>Train and test loss on 6 iterations</caption>\n",
       "  <thead>\n",
       "    <tr>\n",
       "      <th class=\"blank level0\" >&nbsp;</th>\n",
       "      <th id=\"T_abbe7_level0_col0\" class=\"col_heading level0 col0\" >mean</th>\n",
       "      <th id=\"T_abbe7_level0_col1\" class=\"col_heading level0 col1\" >std</th>\n",
       "    </tr>\n",
       "  </thead>\n",
       "  <tbody>\n",
       "    <tr>\n",
       "      <th id=\"T_abbe7_level0_row0\" class=\"row_heading level0 row0\" >train</th>\n",
       "      <td id=\"T_abbe7_row0_col0\" class=\"data row0 col0\" >533</td>\n",
       "      <td id=\"T_abbe7_row0_col1\" class=\"data row0 col1\" >2</td>\n",
       "    </tr>\n",
       "    <tr>\n",
       "      <th id=\"T_abbe7_level0_row1\" class=\"row_heading level0 row1\" >test</th>\n",
       "      <td id=\"T_abbe7_row1_col0\" class=\"data row1 col0\" >548</td>\n",
       "      <td id=\"T_abbe7_row1_col1\" class=\"data row1 col1\" >7</td>\n",
       "    </tr>\n",
       "  </tbody>\n",
       "</table>\n"
      ],
      "text/plain": [
       "<pandas.io.formats.style.Styler at 0x1891e625dc0>"
      ]
     },
     "metadata": {},
     "output_type": "display_data"
    },
    {
     "data": {
      "image/png": "[encoded data removed]",
      "text/plain": [
       "<Figure size 1200x900 with 1 Axes>"
      ]
     },
     "metadata": {},
     "output_type": "display_data"
    }
   ],
   "source": [
    "fit_and_display()"
   ]
  },
  {
   "cell_type": "markdown",
   "metadata": {},
   "source": [
    "The model overfits somewhat with `pct=0.3`. The reader can easily verify using `pct=1` that train/test are more balanced with larger amounts of data. "
   ]
  },
  {
   "cell_type": "code",
   "execution_count": 6,
   "metadata": {
    "execution": {
     "iopub.execute_input": "2025-01-07T14:01:34.726666Z",
     "iopub.status.busy": "2025-01-07T14:01:34.726666Z",
     "iopub.status.idle": "2025-01-07T14:01:34.732718Z",
     "shell.execute_reply": "2025-01-07T14:01:34.732718Z",
     "shell.execute_reply.started": "2025-01-07T14:01:34.726666Z"
    }
   },
   "outputs": [
    {
     "name": "stdout",
     "output_type": "stream",
     "text": [
      "Time it took: 4.0min.\n"
     ]
    }
   ],
   "source": [
    "print(f\"Time it took: {np.ceil((time.time() - tic)/60)}min.\")"
   ]
  }
 ],
 "metadata": {
  "kernelspec": {
   "display_name": "Python 3 (ipykernel)",
   "language": "python",
   "name": "python3"
  },
  "language_info": {
   "codemirror_mode": {
    "name": "ipython",
    "version": 3
   },
   "file_extension": ".py",
   "mimetype": "text/x-python",
   "name": "python",
   "nbconvert_exporter": "python",
   "pygments_lexer": "ipython3",
   "version": "3.12.1"
  }
 },
 "nbformat": 4,
 "nbformat_minor": 4
}
