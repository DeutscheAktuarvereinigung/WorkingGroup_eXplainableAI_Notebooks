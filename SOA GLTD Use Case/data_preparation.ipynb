{
 "cells": [
  {
   "cell_type": "markdown",
   "metadata": {},
   "source": [
    "<!-- Simon-Style -->\n",
    "<p style=\"font-size:19px; text-align:left; margin-top:    15px;\"><i>German Association of Actuaries (DAV) — Working Group \"Explainable Artificial Intelligence\"</i></p>\n",
    "<p style=\"font-size:25px; text-align:left; margin-bottom: 15px\"><b>Use Case SOA GLTD Experience Study:<br>\n",
    "Data preparation\n",
    "</b></p>\n",
    "<p style=\"font-size:19px; text-align:left; margin-bottom: 15px; margin-bottom: 15px\">Guido Grützner (<a href=\"mailto:guido.gruetzner@quantakt.com\">guido.gruetzner@quantakt.com</a>)\n"
   ]
  },
  {
   "cell_type": "markdown",
   "metadata": {},
   "source": [
    "# Initialisation\n",
    "\n",
    "This notebook will prepare a working version of the GLTD data file and provide some insight into its structure. We assume that the original data has been split and transformed to \"feather\" format using the prior notebook \"data_initialisation.ipynb\".\n",
    "\n",
    "To run this notebook (or any of the other notebooks) adapt the variable `datadir` in line 2 of the code block below and insert the number of included parts of the whole study according to your compute resources. You can always restrict the size of the dataset later but loading the full dataset requires at least 32MB of main memory. If in doubt, stick with the default `parts=[0]` this will run with 8MB of main memory and give you about 6.4 million observations. If you are very patient or want to seriously test the power of your hardware set this to `parts[0:1]` or even to `parts[0:4]`. The last choice will load all the data of the study.  "
   ]
  },
  {
   "cell_type": "code",
   "execution_count": 20,
   "metadata": {
    "execution": {
     "iopub.execute_input": "2024-07-20T16:30:07.861283Z",
     "iopub.status.busy": "2024-07-20T16:30:07.861283Z",
     "iopub.status.idle": "2024-07-20T16:30:08.205297Z",
     "shell.execute_reply": "2024-07-20T16:30:08.205297Z",
     "shell.execute_reply.started": "2024-07-20T16:30:07.861283Z"
    }
   },
   "outputs": [],
   "source": [
    "import pandas as pd\n",
    "pd.options.mode.copy_on_write = True\n",
    "\n",
    "import os\n",
    "import numpy as np\n",
    "\n",
    "from IPython.display import display"
   ]
  },
  {
   "cell_type": "code",
   "execution_count": 21,
   "metadata": {
    "execution": {
     "iopub.execute_input": "2024-07-20T16:30:08.206300Z",
     "iopub.status.busy": "2024-07-20T16:30:08.205297Z",
     "iopub.status.idle": "2024-07-20T16:30:08.208435Z",
     "shell.execute_reply": "2024-07-20T16:30:08.208435Z",
     "shell.execute_reply.started": "2024-07-20T16:30:08.206300Z"
    }
   },
   "outputs": [],
   "source": [
    "# Adjust according to your setup\n",
    "datadir = \"d:/tmp/GLTD data/\"\n",
    "# don't change the name without good reasons\n",
    "fn_out = \"gltd09_13work.feather\"\n",
    "\n",
    "# number of parts in range(anzblock)\n",
    "# if you want to make sense of the examples below you need to include 0\n",
    "# if you don't care about them any subset of range(anzblock) is possible.\n",
    "# e.g. parts[0:4] or parts[1:3] etc ...\n",
    "parts = [0]"
   ]
  },
  {
   "cell_type": "code",
   "execution_count": 22,
   "metadata": {
    "execution": {
     "iopub.execute_input": "2024-07-20T16:30:08.208435Z",
     "iopub.status.busy": "2024-07-20T16:30:08.208435Z",
     "iopub.status.idle": "2024-07-20T16:30:10.640631Z",
     "shell.execute_reply": "2024-07-20T16:30:10.640631Z",
     "shell.execute_reply.started": "2024-07-20T16:30:08.208435Z"
    }
   },
   "outputs": [
    {
     "data": {
      "text/plain": [
       "'Number of observations/records: 6594085'"
      ]
     },
     "metadata": {},
     "output_type": "display_data"
    },
    {
     "data": {
      "text/plain": [
       "'Number of inputs: 30'"
      ]
     },
     "metadata": {},
     "output_type": "display_data"
    },
    {
     "data": {
      "text/plain": [
       "Study_ID                                   int64\n",
       "Elimination_Period                         int64\n",
       "Calendar_Year                              int64\n",
       "Calendar_Month                             int64\n",
       "Duration_Month                             int64\n",
       "Age_at_Disability                          int64\n",
       "Diagnosis_Category                        object\n",
       "OwnOccToAnyTransition                     object\n",
       "Gender                                    object\n",
       "Attained_Age                               int64\n",
       "Mental_and_Nervous_Period                  int64\n",
       "M_N_Limit_Transition                      object\n",
       "Gross_Indexed_Benefit_Amount               int64\n",
       "Industry                                  object\n",
       "Indexed_Monthly_Salary                     int64\n",
       "Taxability_of_Benefits                    object\n",
       "Integration_with_STD                      object\n",
       "Case_Size                                  int64\n",
       "Residence_State                           object\n",
       "COLA_Indicator                            object\n",
       "Benefit_Max_Limit_Proxy                   object\n",
       "Replacement_Ratio                        float64\n",
       "Original_Social_Security_Award_Status     object\n",
       "Updated_Social_Security_Award_Status      object\n",
       "Exposures                                float64\n",
       "Actual_Recoveries                          int64\n",
       "Actual_Deaths                              int64\n",
       "Settlement_Counts                          int64\n",
       "Max_Out_Counts                             int64\n",
       "Limits_Count                               int64\n",
       "dtype: object"
      ]
     },
     "metadata": {},
     "output_type": "display_data"
    }
   ],
   "source": [
    "nm_in = [\"gltd09_13_pt\" + str(i) + \".feather\" for i in parts]\n",
    "for ifile in range(len(nm_in)):\n",
    "    tt = [pd.read_feather(datadir + ifile) for ifile in nm_in]\n",
    "    rawtbl = pd.concat(tt, axis=0)\n",
    "\n",
    "nobs = rawtbl.shape[0]\n",
    "display(f\"Number of observations/records: {nobs}\")\n",
    "display(f\"Number of inputs: {rawtbl.shape[1]}\")\n",
    "display(rawtbl.dtypes)"
   ]
  },
  {
   "cell_type": "markdown",
   "metadata": {},
   "source": [
    "Check for columns with NaNs. There shouldn't be any!"
   ]
  },
  {
   "cell_type": "code",
   "execution_count": 23,
   "metadata": {
    "execution": {
     "iopub.execute_input": "2024-07-20T16:30:10.642687Z",
     "iopub.status.busy": "2024-07-20T16:30:10.641680Z",
     "iopub.status.idle": "2024-07-20T16:30:13.566212Z",
     "shell.execute_reply": "2024-07-20T16:30:13.566212Z",
     "shell.execute_reply.started": "2024-07-20T16:30:10.642687Z"
    }
   },
   "outputs": [
    {
     "name": "stdout",
     "output_type": "stream",
     "text": [
      "[]\n"
     ]
    }
   ],
   "source": [
    "nan_cols = rawtbl.isna().sum() > 0\n",
    "print(rawtbl.columns.values[nan_cols])\n",
    "rawtbl = rawtbl.drop(columns=rawtbl.columns.values[nan_cols])"
   ]
  },
  {
   "cell_type": "markdown",
   "metadata": {},
   "source": [
    "Sanity check on binary labels."
   ]
  },
  {
   "cell_type": "code",
   "execution_count": 24,
   "metadata": {
    "editable": true,
    "execution": {
     "iopub.execute_input": "2024-07-20T16:30:13.566212Z",
     "iopub.status.busy": "2024-07-20T16:30:13.566212Z",
     "iopub.status.idle": "2024-07-20T16:30:13.862266Z",
     "shell.execute_reply": "2024-07-20T16:30:13.862266Z",
     "shell.execute_reply.started": "2024-07-20T16:30:13.566212Z"
    },
    "slideshow": {
     "slide_type": ""
    },
    "tags": []
   },
   "outputs": [
    {
     "name": "stdout",
     "output_type": "stream",
     "text": [
      "True\n",
      "92946\n",
      "True\n",
      "23203\n",
      "True\n",
      "5616\n",
      "True\n",
      "31862\n",
      "True\n",
      "8372\n"
     ]
    }
   ],
   "source": [
    "# check whether event variables are either zero or one\n",
    "# check whether any event occured\n",
    "nm_label_cols = [\"Actual_Recoveries\", \"Actual_Deaths\", \"Settlement_Counts\", \n",
    "                 \"Max_Out_Counts\", \"Limits_Count\"]\n",
    "for col in nm_label_cols:\n",
    "    print(rawtbl[col].isin([0, 1]).all())\n",
    "    print(rawtbl[col].sum())"
   ]
  },
  {
   "cell_type": "markdown",
   "metadata": {},
   "source": [
    "Check whether remaining termination events are mutually exclusive."
   ]
  },
  {
   "cell_type": "code",
   "execution_count": 25,
   "metadata": {
    "execution": {
     "iopub.execute_input": "2024-07-20T16:30:13.862266Z",
     "iopub.status.busy": "2024-07-20T16:30:13.862266Z",
     "iopub.status.idle": "2024-07-20T16:30:14.542050Z",
     "shell.execute_reply": "2024-07-20T16:30:14.542050Z",
     "shell.execute_reply.started": "2024-07-20T16:30:13.862266Z"
    }
   },
   "outputs": [
    {
     "data": {
      "text/plain": [
       "True"
      ]
     },
     "execution_count": 25,
     "metadata": {},
     "output_type": "execute_result"
    }
   ],
   "source": [
    "(rawtbl[[\"Actual_Deaths\", \"Actual_Recoveries\", \"Settlement_Counts\", \"Max_Out_Counts\", \n",
    "         \"Limits_Count\"]].sum(axis=1) <= 1).all()   "
   ]
  },
  {
   "cell_type": "markdown",
   "metadata": {},
   "source": [
    "Check for incorrect zero values in some numeric fields. "
   ]
  },
  {
   "cell_type": "code",
   "execution_count": 26,
   "metadata": {
    "execution": {
     "iopub.execute_input": "2024-07-20T16:30:14.542050Z",
     "iopub.status.busy": "2024-07-20T16:30:14.542050Z",
     "iopub.status.idle": "2024-07-20T16:30:14.713607Z",
     "shell.execute_reply": "2024-07-20T16:30:14.713607Z",
     "shell.execute_reply.started": "2024-07-20T16:30:14.542050Z"
    }
   },
   "outputs": [
    {
     "data": {
      "text/html": [
       "<div>\n",
       "<style scoped>\n",
       "    .dataframe tbody tr th:only-of-type {\n",
       "        vertical-align: middle;\n",
       "    }\n",
       "\n",
       "    .dataframe tbody tr th {\n",
       "        vertical-align: top;\n",
       "    }\n",
       "\n",
       "    .dataframe thead th {\n",
       "        text-align: right;\n",
       "    }\n",
       "</style>\n",
       "<table border=\"1\" class=\"dataframe\">\n",
       "  <thead>\n",
       "    <tr style=\"text-align: right;\">\n",
       "      <th></th>\n",
       "      <th>variable</th>\n",
       "      <th>≤ 0</th>\n",
       "      <th>=0</th>\n",
       "      <th>%</th>\n",
       "    </tr>\n",
       "  </thead>\n",
       "  <tbody>\n",
       "    <tr>\n",
       "      <th>0</th>\n",
       "      <td>Indexed_Monthly_Salary</td>\n",
       "      <td>6053</td>\n",
       "      <td>6053</td>\n",
       "      <td>0.091794</td>\n",
       "    </tr>\n",
       "    <tr>\n",
       "      <th>1</th>\n",
       "      <td>Case_Size</td>\n",
       "      <td>315027</td>\n",
       "      <td>315027</td>\n",
       "      <td>4.777418</td>\n",
       "    </tr>\n",
       "    <tr>\n",
       "      <th>2</th>\n",
       "      <td>Replacement_Ratio</td>\n",
       "      <td>6053</td>\n",
       "      <td>6053</td>\n",
       "      <td>0.091794</td>\n",
       "    </tr>\n",
       "  </tbody>\n",
       "</table>\n",
       "</div>"
      ],
      "text/plain": [
       "                 variable     ≤ 0      =0         %\n",
       "0  Indexed_Monthly_Salary    6053    6053  0.091794\n",
       "1               Case_Size  315027  315027  4.777418\n",
       "2       Replacement_Ratio    6053    6053  0.091794"
      ]
     },
     "execution_count": 26,
     "metadata": {},
     "output_type": "execute_result"
    }
   ],
   "source": [
    "nm_numcol = np.array([\"Duration_Month\", \"Age_at_Disability\", \"Attained_Age\", \"Gross_Indexed_Benefit_Amount\", \n",
    "                      \"Indexed_Monthly_Salary\", \"Case_Size\",\"Replacement_Ratio\"])\n",
    "tmp = rawtbl[nm_numcol].le(0).any(axis=0).to_numpy()\n",
    "ltzero = rawtbl[nm_numcol[tmp]].le(0).sum(axis=0).to_numpy()\n",
    "eqzero = rawtbl[nm_numcol[tmp]].eq(0).sum(axis=0).to_numpy()\n",
    "pd.DataFrame({\"variable\": nm_numcol[tmp], \"\\u2264 0\": ltzero, \"=0\": eqzero, \"%\": eqzero/rawtbl.shape[0]*100} )\n"
   ]
  },
  {
   "cell_type": "markdown",
   "metadata": {},
   "source": [
    "# Data structure\n",
    "\n",
    "For detailed definitions of the data fields, see 2019 Group Long-Term Disability Experience Study Preliminary Report, Appendix 3. \n",
    "\n",
    "Each unique Study_ID identifies an individual claim over time. The data contains one record for each month the claim is open during the study. For all claims which are already in-force at the study begin date, there is an additional record in the first month of the first study year, i.e. in Month 1 of 2009. This record will have a fractional exposure less than one while the other record for the same calendar month will be with full exposure, i.e. exposure equal to one. All subsequent records will show full exposure until termination of the claim, either due to an event or the termination of the study. At the end of the study period, which will be month 12 of calendar year 2017 and is not included in this dataset, any claims still open will again have two records, one with full exposure the other with fractional. If any claim is open for the full length of the study, its first and last fractional exposure will sum to one.\n",
    "\n",
    "The following examples assume that part 0 is included in the file selection."
   ]
  },
  {
   "cell_type": "code",
   "execution_count": 28,
   "metadata": {
    "execution": {
     "iopub.execute_input": "2024-07-20T16:30:14.713607Z",
     "iopub.status.busy": "2024-07-20T16:30:14.713607Z",
     "iopub.status.idle": "2024-07-20T16:30:14.842881Z",
     "shell.execute_reply": "2024-07-20T16:30:14.842881Z",
     "shell.execute_reply.started": "2024-07-20T16:30:14.713607Z"
    }
   },
   "outputs": [
    {
     "data": {
      "text/html": [
       "<div>\n",
       "<style scoped>\n",
       "    .dataframe tbody tr th:only-of-type {\n",
       "        vertical-align: middle;\n",
       "    }\n",
       "\n",
       "    .dataframe tbody tr th {\n",
       "        vertical-align: top;\n",
       "    }\n",
       "\n",
       "    .dataframe thead th {\n",
       "        text-align: right;\n",
       "    }\n",
       "</style>\n",
       "<table border=\"1\" class=\"dataframe\">\n",
       "  <thead>\n",
       "    <tr style=\"text-align: right;\">\n",
       "      <th></th>\n",
       "      <th>Study_ID</th>\n",
       "      <th>Calendar_Month</th>\n",
       "      <th>Duration_Month</th>\n",
       "      <th>Exposures</th>\n",
       "    </tr>\n",
       "  </thead>\n",
       "  <tbody>\n",
       "    <tr>\n",
       "      <th>47</th>\n",
       "      <td>1698416</td>\n",
       "      <td>1</td>\n",
       "      <td>45</td>\n",
       "      <td>0.133333</td>\n",
       "    </tr>\n",
       "    <tr>\n",
       "      <th>343721</th>\n",
       "      <td>1698416</td>\n",
       "      <td>1</td>\n",
       "      <td>46</td>\n",
       "      <td>1.000000</td>\n",
       "    </tr>\n",
       "    <tr>\n",
       "      <th>366050</th>\n",
       "      <td>1698416</td>\n",
       "      <td>2</td>\n",
       "      <td>47</td>\n",
       "      <td>1.000000</td>\n",
       "    </tr>\n",
       "    <tr>\n",
       "      <th>415801</th>\n",
       "      <td>1698416</td>\n",
       "      <td>3</td>\n",
       "      <td>48</td>\n",
       "      <td>1.000000</td>\n",
       "    </tr>\n",
       "    <tr>\n",
       "      <th>230245</th>\n",
       "      <td>1698416</td>\n",
       "      <td>4</td>\n",
       "      <td>49</td>\n",
       "      <td>1.000000</td>\n",
       "    </tr>\n",
       "    <tr>\n",
       "      <th>201839</th>\n",
       "      <td>1698416</td>\n",
       "      <td>5</td>\n",
       "      <td>50</td>\n",
       "      <td>1.000000</td>\n",
       "    </tr>\n",
       "    <tr>\n",
       "      <th>76611</th>\n",
       "      <td>1698416</td>\n",
       "      <td>6</td>\n",
       "      <td>51</td>\n",
       "      <td>1.000000</td>\n",
       "    </tr>\n",
       "    <tr>\n",
       "      <th>407322</th>\n",
       "      <td>1698416</td>\n",
       "      <td>7</td>\n",
       "      <td>52</td>\n",
       "      <td>1.000000</td>\n",
       "    </tr>\n",
       "    <tr>\n",
       "      <th>201887</th>\n",
       "      <td>1698416</td>\n",
       "      <td>8</td>\n",
       "      <td>53</td>\n",
       "      <td>1.000000</td>\n",
       "    </tr>\n",
       "    <tr>\n",
       "      <th>233047</th>\n",
       "      <td>1698416</td>\n",
       "      <td>9</td>\n",
       "      <td>54</td>\n",
       "      <td>1.000000</td>\n",
       "    </tr>\n",
       "    <tr>\n",
       "      <th>378398</th>\n",
       "      <td>1698416</td>\n",
       "      <td>10</td>\n",
       "      <td>55</td>\n",
       "      <td>1.000000</td>\n",
       "    </tr>\n",
       "    <tr>\n",
       "      <th>455538</th>\n",
       "      <td>1698416</td>\n",
       "      <td>11</td>\n",
       "      <td>56</td>\n",
       "      <td>1.000000</td>\n",
       "    </tr>\n",
       "    <tr>\n",
       "      <th>500470</th>\n",
       "      <td>1698416</td>\n",
       "      <td>12</td>\n",
       "      <td>57</td>\n",
       "      <td>1.000000</td>\n",
       "    </tr>\n",
       "  </tbody>\n",
       "</table>\n",
       "</div>"
      ],
      "text/plain": [
       "        Study_ID  Calendar_Month  Duration_Month  Exposures\n",
       "47       1698416               1              45   0.133333\n",
       "343721   1698416               1              46   1.000000\n",
       "366050   1698416               2              47   1.000000\n",
       "415801   1698416               3              48   1.000000\n",
       "230245   1698416               4              49   1.000000\n",
       "201839   1698416               5              50   1.000000\n",
       "76611    1698416               6              51   1.000000\n",
       "407322   1698416               7              52   1.000000\n",
       "201887   1698416               8              53   1.000000\n",
       "233047   1698416               9              54   1.000000\n",
       "378398   1698416              10              55   1.000000\n",
       "455538   1698416              11              56   1.000000\n",
       "500470   1698416              12              57   1.000000"
      ]
     },
     "execution_count": 28,
     "metadata": {},
     "output_type": "execute_result"
    }
   ],
   "source": [
    "id_mt = rawtbl[ (rawtbl[\"Calendar_Month\"]==1) & (rawtbl[\"Calendar_Year\"]==2009)][\"Study_ID\"]\n",
    "flg = (rawtbl[\"Study_ID\"] == id_mt.iat[1])\n",
    "tt = rawtbl[flg & (rawtbl[\"Calendar_Year\"]==2009)][[\"Study_ID\", \"Calendar_Month\", \"Duration_Month\", \"Exposures\"]]\n",
    "pd.DataFrame(tt.sort_values(by=\"Duration_Month\"))"
   ]
  },
  {
   "cell_type": "markdown",
   "metadata": {},
   "source": [
    "If termination for death or recovery occurs, the respective record will have a full exposure."
   ]
  },
  {
   "cell_type": "code",
   "execution_count": 29,
   "metadata": {
    "execution": {
     "iopub.execute_input": "2024-07-20T16:30:14.842881Z",
     "iopub.status.busy": "2024-07-20T16:30:14.842881Z",
     "iopub.status.idle": "2024-07-20T16:30:14.920857Z",
     "shell.execute_reply": "2024-07-20T16:30:14.920857Z",
     "shell.execute_reply.started": "2024-07-20T16:30:14.842881Z"
    }
   },
   "outputs": [
    {
     "data": {
      "text/html": [
       "<div>\n",
       "<style scoped>\n",
       "    .dataframe tbody tr th:only-of-type {\n",
       "        vertical-align: middle;\n",
       "    }\n",
       "\n",
       "    .dataframe tbody tr th {\n",
       "        vertical-align: top;\n",
       "    }\n",
       "\n",
       "    .dataframe thead th {\n",
       "        text-align: right;\n",
       "    }\n",
       "</style>\n",
       "<table border=\"1\" class=\"dataframe\">\n",
       "  <thead>\n",
       "    <tr style=\"text-align: right;\">\n",
       "      <th></th>\n",
       "      <th>Study_ID</th>\n",
       "      <th>Calendar_Month</th>\n",
       "      <th>Duration_Month</th>\n",
       "      <th>Exposures</th>\n",
       "      <th>Actual_Recoveries</th>\n",
       "      <th>Actual_Deaths</th>\n",
       "    </tr>\n",
       "  </thead>\n",
       "  <tbody>\n",
       "    <tr>\n",
       "      <th>2587632</th>\n",
       "      <td>1883628</td>\n",
       "      <td>5</td>\n",
       "      <td>7</td>\n",
       "      <td>1.0</td>\n",
       "      <td>0</td>\n",
       "      <td>0</td>\n",
       "    </tr>\n",
       "    <tr>\n",
       "      <th>341197</th>\n",
       "      <td>1883628</td>\n",
       "      <td>6</td>\n",
       "      <td>8</td>\n",
       "      <td>1.0</td>\n",
       "      <td>0</td>\n",
       "      <td>0</td>\n",
       "    </tr>\n",
       "    <tr>\n",
       "      <th>115380</th>\n",
       "      <td>1883628</td>\n",
       "      <td>7</td>\n",
       "      <td>9</td>\n",
       "      <td>1.0</td>\n",
       "      <td>0</td>\n",
       "      <td>0</td>\n",
       "    </tr>\n",
       "    <tr>\n",
       "      <th>3785</th>\n",
       "      <td>1883628</td>\n",
       "      <td>8</td>\n",
       "      <td>10</td>\n",
       "      <td>1.0</td>\n",
       "      <td>0</td>\n",
       "      <td>0</td>\n",
       "    </tr>\n",
       "    <tr>\n",
       "      <th>334927</th>\n",
       "      <td>1883628</td>\n",
       "      <td>9</td>\n",
       "      <td>11</td>\n",
       "      <td>1.0</td>\n",
       "      <td>0</td>\n",
       "      <td>0</td>\n",
       "    </tr>\n",
       "    <tr>\n",
       "      <th>3513896</th>\n",
       "      <td>1883628</td>\n",
       "      <td>10</td>\n",
       "      <td>12</td>\n",
       "      <td>1.0</td>\n",
       "      <td>0</td>\n",
       "      <td>0</td>\n",
       "    </tr>\n",
       "    <tr>\n",
       "      <th>44170</th>\n",
       "      <td>1883628</td>\n",
       "      <td>11</td>\n",
       "      <td>13</td>\n",
       "      <td>1.0</td>\n",
       "      <td>0</td>\n",
       "      <td>0</td>\n",
       "    </tr>\n",
       "    <tr>\n",
       "      <th>152793</th>\n",
       "      <td>1883628</td>\n",
       "      <td>12</td>\n",
       "      <td>14</td>\n",
       "      <td>1.0</td>\n",
       "      <td>0</td>\n",
       "      <td>0</td>\n",
       "    </tr>\n",
       "    <tr>\n",
       "      <th>278</th>\n",
       "      <td>1883628</td>\n",
       "      <td>1</td>\n",
       "      <td>15</td>\n",
       "      <td>1.0</td>\n",
       "      <td>1</td>\n",
       "      <td>0</td>\n",
       "    </tr>\n",
       "  </tbody>\n",
       "</table>\n",
       "</div>"
      ],
      "text/plain": [
       "         Study_ID  Calendar_Month  Duration_Month  Exposures  \\\n",
       "2587632   1883628               5               7        1.0   \n",
       "341197    1883628               6               8        1.0   \n",
       "115380    1883628               7               9        1.0   \n",
       "3785      1883628               8              10        1.0   \n",
       "334927    1883628               9              11        1.0   \n",
       "3513896   1883628              10              12        1.0   \n",
       "44170     1883628              11              13        1.0   \n",
       "152793    1883628              12              14        1.0   \n",
       "278       1883628               1              15        1.0   \n",
       "\n",
       "         Actual_Recoveries  Actual_Deaths  \n",
       "2587632                  0              0  \n",
       "341197                   0              0  \n",
       "115380                   0              0  \n",
       "3785                     0              0  \n",
       "334927                   0              0  \n",
       "3513896                  0              0  \n",
       "44170                    0              0  \n",
       "152793                   0              0  \n",
       "278                      1              0  "
      ]
     },
     "execution_count": 29,
     "metadata": {},
     "output_type": "execute_result"
    }
   ],
   "source": [
    "id = rawtbl[(rawtbl[\"Calendar_Year\"] == 2010) \n",
    "            & (rawtbl[\"Actual_Recoveries\"] == 1)][ \"Study_ID\"]\n",
    "tt = rawtbl[rawtbl[\"Study_ID\"]==id.iat[1]]\n",
    "tt = tt[[\"Study_ID\", \"Calendar_Month\", \"Duration_Month\", \n",
    "         \"Exposures\", \"Actual_Recoveries\", \"Actual_Deaths\"]]\n",
    "pd.DataFrame(tt.sort_values(by=\"Duration_Month\"))"
   ]
  },
  {
   "cell_type": "code",
   "execution_count": 30,
   "metadata": {},
   "outputs": [
    {
     "data": {
      "text/html": [
       "<div>\n",
       "<style scoped>\n",
       "    .dataframe tbody tr th:only-of-type {\n",
       "        vertical-align: middle;\n",
       "    }\n",
       "\n",
       "    .dataframe tbody tr th {\n",
       "        vertical-align: top;\n",
       "    }\n",
       "\n",
       "    .dataframe thead th {\n",
       "        text-align: right;\n",
       "    }\n",
       "</style>\n",
       "<table border=\"1\" class=\"dataframe\">\n",
       "  <thead>\n",
       "    <tr style=\"text-align: right;\">\n",
       "      <th></th>\n",
       "      <th>Study_ID</th>\n",
       "      <th>Calendar_Month</th>\n",
       "      <th>Duration_Month</th>\n",
       "      <th>Exposures</th>\n",
       "      <th>Actual_Recoveries</th>\n",
       "      <th>Actual_Deaths</th>\n",
       "    </tr>\n",
       "  </thead>\n",
       "  <tbody>\n",
       "    <tr>\n",
       "      <th>1684663</th>\n",
       "      <td>830655</td>\n",
       "      <td>3</td>\n",
       "      <td>7</td>\n",
       "      <td>1.0</td>\n",
       "      <td>0</td>\n",
       "      <td>0</td>\n",
       "    </tr>\n",
       "    <tr>\n",
       "      <th>72382</th>\n",
       "      <td>830655</td>\n",
       "      <td>4</td>\n",
       "      <td>8</td>\n",
       "      <td>1.0</td>\n",
       "      <td>0</td>\n",
       "      <td>0</td>\n",
       "    </tr>\n",
       "    <tr>\n",
       "      <th>480009</th>\n",
       "      <td>830655</td>\n",
       "      <td>5</td>\n",
       "      <td>9</td>\n",
       "      <td>1.0</td>\n",
       "      <td>0</td>\n",
       "      <td>0</td>\n",
       "    </tr>\n",
       "    <tr>\n",
       "      <th>3497370</th>\n",
       "      <td>830655</td>\n",
       "      <td>6</td>\n",
       "      <td>10</td>\n",
       "      <td>1.0</td>\n",
       "      <td>0</td>\n",
       "      <td>0</td>\n",
       "    </tr>\n",
       "    <tr>\n",
       "      <th>10332</th>\n",
       "      <td>830655</td>\n",
       "      <td>7</td>\n",
       "      <td>11</td>\n",
       "      <td>1.0</td>\n",
       "      <td>0</td>\n",
       "      <td>0</td>\n",
       "    </tr>\n",
       "    <tr>\n",
       "      <th>3404712</th>\n",
       "      <td>830655</td>\n",
       "      <td>8</td>\n",
       "      <td>12</td>\n",
       "      <td>1.0</td>\n",
       "      <td>0</td>\n",
       "      <td>0</td>\n",
       "    </tr>\n",
       "    <tr>\n",
       "      <th>403570</th>\n",
       "      <td>830655</td>\n",
       "      <td>9</td>\n",
       "      <td>13</td>\n",
       "      <td>1.0</td>\n",
       "      <td>0</td>\n",
       "      <td>0</td>\n",
       "    </tr>\n",
       "    <tr>\n",
       "      <th>10349</th>\n",
       "      <td>830655</td>\n",
       "      <td>10</td>\n",
       "      <td>14</td>\n",
       "      <td>1.0</td>\n",
       "      <td>0</td>\n",
       "      <td>1</td>\n",
       "    </tr>\n",
       "  </tbody>\n",
       "</table>\n",
       "</div>"
      ],
      "text/plain": [
       "         Study_ID  Calendar_Month  Duration_Month  Exposures  \\\n",
       "1684663    830655               3               7        1.0   \n",
       "72382      830655               4               8        1.0   \n",
       "480009     830655               5               9        1.0   \n",
       "3497370    830655               6              10        1.0   \n",
       "10332      830655               7              11        1.0   \n",
       "3404712    830655               8              12        1.0   \n",
       "403570     830655               9              13        1.0   \n",
       "10349      830655              10              14        1.0   \n",
       "\n",
       "         Actual_Recoveries  Actual_Deaths  \n",
       "1684663                  0              0  \n",
       "72382                    0              0  \n",
       "480009                   0              0  \n",
       "3497370                  0              0  \n",
       "10332                    0              0  \n",
       "3404712                  0              0  \n",
       "403570                   0              0  \n",
       "10349                    0              1  "
      ]
     },
     "execution_count": 30,
     "metadata": {},
     "output_type": "execute_result"
    }
   ],
   "source": [
    "id = rawtbl[\n",
    "    (rawtbl[\"Calendar_Year\"] == 2010) & (rawtbl[\"Actual_Deaths\"] == 1)][\"Study_ID\"]\n",
    "tt = rawtbl[rawtbl[\"Study_ID\"]==id.iat[1]]\n",
    "tt = tt[[\"Study_ID\", \"Calendar_Month\", \"Duration_Month\", \"Exposures\", \n",
    "         \"Actual_Recoveries\", \"Actual_Deaths\"]]\n",
    "pd.DataFrame(tt.sort_values(by=\"Duration_Month\"))"
   ]
  },
  {
   "cell_type": "markdown",
   "metadata": {},
   "source": [
    "Apparently, both claims entered the study in 2010 after a waiting period of 6 months.\n",
    "If termination of a claim occurs for another reason (settlement, limit, max-out, exclusion) the observation of death or recovery is right-censored. In this case, a fractional exposure is shown. "
   ]
  },
  {
   "cell_type": "code",
   "execution_count": 31,
   "metadata": {
    "execution": {
     "iopub.execute_input": "2024-07-20T16:30:14.920857Z",
     "iopub.status.busy": "2024-07-20T16:30:14.920857Z",
     "iopub.status.idle": "2024-07-20T16:30:14.956324Z",
     "shell.execute_reply": "2024-07-20T16:30:14.956324Z",
     "shell.execute_reply.started": "2024-07-20T16:30:14.920857Z"
    }
   },
   "outputs": [
    {
     "data": {
      "text/html": [
       "<div>\n",
       "<style scoped>\n",
       "    .dataframe tbody tr th:only-of-type {\n",
       "        vertical-align: middle;\n",
       "    }\n",
       "\n",
       "    .dataframe tbody tr th {\n",
       "        vertical-align: top;\n",
       "    }\n",
       "\n",
       "    .dataframe thead th {\n",
       "        text-align: right;\n",
       "    }\n",
       "</style>\n",
       "<table border=\"1\" class=\"dataframe\">\n",
       "  <thead>\n",
       "    <tr style=\"text-align: right;\">\n",
       "      <th></th>\n",
       "      <th>Study_ID</th>\n",
       "      <th>Calendar_Month</th>\n",
       "      <th>Duration_Month</th>\n",
       "      <th>Exposures</th>\n",
       "      <th>Max_Out_Counts</th>\n",
       "    </tr>\n",
       "  </thead>\n",
       "  <tbody>\n",
       "    <tr>\n",
       "      <th>3663464</th>\n",
       "      <td>1979013</td>\n",
       "      <td>1</td>\n",
       "      <td>131</td>\n",
       "      <td>0.6</td>\n",
       "      <td>0</td>\n",
       "    </tr>\n",
       "    <tr>\n",
       "      <th>252233</th>\n",
       "      <td>1979013</td>\n",
       "      <td>1</td>\n",
       "      <td>132</td>\n",
       "      <td>1.0</td>\n",
       "      <td>0</td>\n",
       "    </tr>\n",
       "    <tr>\n",
       "      <th>148899</th>\n",
       "      <td>1979013</td>\n",
       "      <td>2</td>\n",
       "      <td>133</td>\n",
       "      <td>1.0</td>\n",
       "      <td>0</td>\n",
       "    </tr>\n",
       "    <tr>\n",
       "      <th>3452543</th>\n",
       "      <td>1979013</td>\n",
       "      <td>3</td>\n",
       "      <td>134</td>\n",
       "      <td>1.0</td>\n",
       "      <td>0</td>\n",
       "    </tr>\n",
       "    <tr>\n",
       "      <th>3327399</th>\n",
       "      <td>1979013</td>\n",
       "      <td>4</td>\n",
       "      <td>135</td>\n",
       "      <td>1.0</td>\n",
       "      <td>0</td>\n",
       "    </tr>\n",
       "    <tr>\n",
       "      <th>3400576</th>\n",
       "      <td>1979013</td>\n",
       "      <td>5</td>\n",
       "      <td>136</td>\n",
       "      <td>1.0</td>\n",
       "      <td>0</td>\n",
       "    </tr>\n",
       "    <tr>\n",
       "      <th>363179</th>\n",
       "      <td>1979013</td>\n",
       "      <td>6</td>\n",
       "      <td>137</td>\n",
       "      <td>1.0</td>\n",
       "      <td>0</td>\n",
       "    </tr>\n",
       "    <tr>\n",
       "      <th>3455843</th>\n",
       "      <td>1979013</td>\n",
       "      <td>7</td>\n",
       "      <td>138</td>\n",
       "      <td>1.0</td>\n",
       "      <td>0</td>\n",
       "    </tr>\n",
       "    <tr>\n",
       "      <th>255786</th>\n",
       "      <td>1979013</td>\n",
       "      <td>8</td>\n",
       "      <td>139</td>\n",
       "      <td>1.0</td>\n",
       "      <td>0</td>\n",
       "    </tr>\n",
       "    <tr>\n",
       "      <th>71461</th>\n",
       "      <td>1979013</td>\n",
       "      <td>9</td>\n",
       "      <td>140</td>\n",
       "      <td>1.0</td>\n",
       "      <td>0</td>\n",
       "    </tr>\n",
       "    <tr>\n",
       "      <th>39563</th>\n",
       "      <td>1979013</td>\n",
       "      <td>10</td>\n",
       "      <td>141</td>\n",
       "      <td>1.0</td>\n",
       "      <td>0</td>\n",
       "    </tr>\n",
       "    <tr>\n",
       "      <th>3455844</th>\n",
       "      <td>1979013</td>\n",
       "      <td>11</td>\n",
       "      <td>142</td>\n",
       "      <td>1.0</td>\n",
       "      <td>0</td>\n",
       "    </tr>\n",
       "    <tr>\n",
       "      <th>3405946</th>\n",
       "      <td>1979013</td>\n",
       "      <td>12</td>\n",
       "      <td>143</td>\n",
       "      <td>1.0</td>\n",
       "      <td>0</td>\n",
       "    </tr>\n",
       "    <tr>\n",
       "      <th>361393</th>\n",
       "      <td>1979013</td>\n",
       "      <td>1</td>\n",
       "      <td>144</td>\n",
       "      <td>1.0</td>\n",
       "      <td>0</td>\n",
       "    </tr>\n",
       "    <tr>\n",
       "      <th>282492</th>\n",
       "      <td>1979013</td>\n",
       "      <td>2</td>\n",
       "      <td>145</td>\n",
       "      <td>1.0</td>\n",
       "      <td>0</td>\n",
       "    </tr>\n",
       "    <tr>\n",
       "      <th>9604</th>\n",
       "      <td>1979013</td>\n",
       "      <td>3</td>\n",
       "      <td>146</td>\n",
       "      <td>0.5</td>\n",
       "      <td>1</td>\n",
       "    </tr>\n",
       "  </tbody>\n",
       "</table>\n",
       "</div>"
      ],
      "text/plain": [
       "         Study_ID  Calendar_Month  Duration_Month  Exposures  Max_Out_Counts\n",
       "3663464   1979013               1             131        0.6               0\n",
       "252233    1979013               1             132        1.0               0\n",
       "148899    1979013               2             133        1.0               0\n",
       "3452543   1979013               3             134        1.0               0\n",
       "3327399   1979013               4             135        1.0               0\n",
       "3400576   1979013               5             136        1.0               0\n",
       "363179    1979013               6             137        1.0               0\n",
       "3455843   1979013               7             138        1.0               0\n",
       "255786    1979013               8             139        1.0               0\n",
       "71461     1979013               9             140        1.0               0\n",
       "39563     1979013              10             141        1.0               0\n",
       "3455844   1979013              11             142        1.0               0\n",
       "3405946   1979013              12             143        1.0               0\n",
       "361393    1979013               1             144        1.0               0\n",
       "282492    1979013               2             145        1.0               0\n",
       "9604      1979013               3             146        0.5               1"
      ]
     },
     "execution_count": 31,
     "metadata": {},
     "output_type": "execute_result"
    }
   ],
   "source": [
    "id = rawtbl[(rawtbl[\"Calendar_Year\"] == 2010) & (rawtbl[\"Max_Out_Counts\"] == 1)][ \"Study_ID\"]\n",
    "tt = rawtbl[rawtbl[\"Study_ID\"]==id.iat[6]]\n",
    "tt = tt[[\"Study_ID\", \"Calendar_Month\", \"Duration_Month\", \"Exposures\", \"Max_Out_Counts\"]]\n",
    "pd.DataFrame(tt.sort_values(by=\"Duration_Month\"))"
   ]
  },
  {
   "cell_type": "markdown",
   "metadata": {},
   "source": [
    "The claim above was terminated due to \"max-out\" after 15 days (0.5 = 15/30) in the 146th month after commencement of benefits."
   ]
  },
  {
   "cell_type": "markdown",
   "metadata": {},
   "source": [
    "# Handling of fractional exposures\n",
    "\n",
    "Fractional exposures contribute only little to the total exposure of this study.  "
   ]
  },
  {
   "cell_type": "code",
   "execution_count": 12,
   "metadata": {
    "execution": {
     "iopub.execute_input": "2024-07-20T16:30:14.956324Z",
     "iopub.status.busy": "2024-07-20T16:30:14.956324Z",
     "iopub.status.idle": "2024-07-20T16:30:15.038612Z",
     "shell.execute_reply": "2024-07-20T16:30:15.038612Z",
     "shell.execute_reply.started": "2024-07-20T16:30:14.956324Z"
    }
   },
   "outputs": [
    {
     "data": {
      "text/plain": [
       "'Records with fractional exposures: 0.9%'"
      ]
     },
     "metadata": {},
     "output_type": "display_data"
    }
   ],
   "source": [
    "tbl = rawtbl[rawtbl[\"Exposures\"] < 1]\n",
    "display(f\"Records with fractional exposures: {\n",
    "    (tbl[\"Exposures\"].sum() / rawtbl[\"Exposures\"].sum()*100).round(1)}%\")"
   ]
  },
  {
   "cell_type": "markdown",
   "metadata": {},
   "source": [
    "\n",
    "The following result shows that the vast majority of fractional exposures is due to entry into the study. In addition, a conspicuous number of fractional exposures are in each February. This is due to max-out terminations, although it is not clear why contractual limits should relate to calendar time. Since we only use the 2009–2013 data and the study actually extends to 2017 no fractional years occur for the end of the study."
   ]
  },
  {
   "cell_type": "code",
   "execution_count": 13,
   "metadata": {
    "execution": {
     "iopub.execute_input": "2024-07-20T16:30:15.038612Z",
     "iopub.status.busy": "2024-07-20T16:30:15.038612Z",
     "iopub.status.idle": "2024-07-20T16:30:15.086851Z",
     "shell.execute_reply": "2024-07-20T16:30:15.086851Z",
     "shell.execute_reply.started": "2024-07-20T16:30:15.038612Z"
    }
   },
   "outputs": [
    {
     "data": {
      "text/html": [
       "<div>\n",
       "<style scoped>\n",
       "    .dataframe tbody tr th:only-of-type {\n",
       "        vertical-align: middle;\n",
       "    }\n",
       "\n",
       "    .dataframe tbody tr th {\n",
       "        vertical-align: top;\n",
       "    }\n",
       "\n",
       "    .dataframe thead th {\n",
       "        text-align: right;\n",
       "    }\n",
       "</style>\n",
       "<table border=\"1\" class=\"dataframe\">\n",
       "  <thead>\n",
       "    <tr style=\"text-align: right;\">\n",
       "      <th>Calendar_Year</th>\n",
       "      <th>2009</th>\n",
       "      <th>2010</th>\n",
       "      <th>2011</th>\n",
       "      <th>2012</th>\n",
       "      <th>2013</th>\n",
       "      <th>All</th>\n",
       "    </tr>\n",
       "    <tr>\n",
       "      <th>Calendar_Month</th>\n",
       "      <th></th>\n",
       "      <th></th>\n",
       "      <th></th>\n",
       "      <th></th>\n",
       "      <th></th>\n",
       "      <th></th>\n",
       "    </tr>\n",
       "  </thead>\n",
       "  <tbody>\n",
       "    <tr>\n",
       "      <th>1</th>\n",
       "      <td>82.9</td>\n",
       "      <td>0.2</td>\n",
       "      <td>0.2</td>\n",
       "      <td>0.3</td>\n",
       "      <td>0.3</td>\n",
       "      <td>84.0</td>\n",
       "    </tr>\n",
       "    <tr>\n",
       "      <th>2</th>\n",
       "      <td>0.4</td>\n",
       "      <td>0.5</td>\n",
       "      <td>0.5</td>\n",
       "      <td>0.6</td>\n",
       "      <td>0.6</td>\n",
       "      <td>2.6</td>\n",
       "    </tr>\n",
       "    <tr>\n",
       "      <th>3</th>\n",
       "      <td>0.2</td>\n",
       "      <td>0.2</td>\n",
       "      <td>0.2</td>\n",
       "      <td>0.3</td>\n",
       "      <td>0.3</td>\n",
       "      <td>1.2</td>\n",
       "    </tr>\n",
       "    <tr>\n",
       "      <th>4</th>\n",
       "      <td>0.2</td>\n",
       "      <td>0.2</td>\n",
       "      <td>0.2</td>\n",
       "      <td>0.3</td>\n",
       "      <td>0.3</td>\n",
       "      <td>1.2</td>\n",
       "    </tr>\n",
       "    <tr>\n",
       "      <th>5</th>\n",
       "      <td>0.2</td>\n",
       "      <td>0.2</td>\n",
       "      <td>0.3</td>\n",
       "      <td>0.3</td>\n",
       "      <td>0.2</td>\n",
       "      <td>1.2</td>\n",
       "    </tr>\n",
       "    <tr>\n",
       "      <th>6</th>\n",
       "      <td>0.2</td>\n",
       "      <td>0.2</td>\n",
       "      <td>0.3</td>\n",
       "      <td>0.3</td>\n",
       "      <td>0.3</td>\n",
       "      <td>1.3</td>\n",
       "    </tr>\n",
       "    <tr>\n",
       "      <th>7</th>\n",
       "      <td>0.2</td>\n",
       "      <td>0.3</td>\n",
       "      <td>0.3</td>\n",
       "      <td>0.3</td>\n",
       "      <td>0.3</td>\n",
       "      <td>1.4</td>\n",
       "    </tr>\n",
       "    <tr>\n",
       "      <th>8</th>\n",
       "      <td>0.2</td>\n",
       "      <td>0.3</td>\n",
       "      <td>0.3</td>\n",
       "      <td>0.3</td>\n",
       "      <td>0.3</td>\n",
       "      <td>1.4</td>\n",
       "    </tr>\n",
       "    <tr>\n",
       "      <th>9</th>\n",
       "      <td>0.3</td>\n",
       "      <td>0.2</td>\n",
       "      <td>0.3</td>\n",
       "      <td>0.3</td>\n",
       "      <td>0.3</td>\n",
       "      <td>1.5</td>\n",
       "    </tr>\n",
       "    <tr>\n",
       "      <th>10</th>\n",
       "      <td>0.3</td>\n",
       "      <td>0.2</td>\n",
       "      <td>0.3</td>\n",
       "      <td>0.3</td>\n",
       "      <td>0.3</td>\n",
       "      <td>1.5</td>\n",
       "    </tr>\n",
       "    <tr>\n",
       "      <th>11</th>\n",
       "      <td>0.2</td>\n",
       "      <td>0.2</td>\n",
       "      <td>0.3</td>\n",
       "      <td>0.3</td>\n",
       "      <td>0.3</td>\n",
       "      <td>1.4</td>\n",
       "    </tr>\n",
       "    <tr>\n",
       "      <th>12</th>\n",
       "      <td>0.2</td>\n",
       "      <td>0.2</td>\n",
       "      <td>0.3</td>\n",
       "      <td>0.3</td>\n",
       "      <td>0.3</td>\n",
       "      <td>1.3</td>\n",
       "    </tr>\n",
       "    <tr>\n",
       "      <th>All</th>\n",
       "      <td>85.7</td>\n",
       "      <td>3.1</td>\n",
       "      <td>3.4</td>\n",
       "      <td>3.9</td>\n",
       "      <td>3.9</td>\n",
       "      <td>100.0</td>\n",
       "    </tr>\n",
       "  </tbody>\n",
       "</table>\n",
       "</div>"
      ],
      "text/plain": [
       "Calendar_Year   2009  2010  2011  2012  2013    All\n",
       "Calendar_Month                                     \n",
       "1               82.9   0.2   0.2   0.3   0.3   84.0\n",
       "2                0.4   0.5   0.5   0.6   0.6    2.6\n",
       "3                0.2   0.2   0.2   0.3   0.3    1.2\n",
       "4                0.2   0.2   0.2   0.3   0.3    1.2\n",
       "5                0.2   0.2   0.3   0.3   0.2    1.2\n",
       "6                0.2   0.2   0.3   0.3   0.3    1.3\n",
       "7                0.2   0.3   0.3   0.3   0.3    1.4\n",
       "8                0.2   0.3   0.3   0.3   0.3    1.4\n",
       "9                0.3   0.2   0.3   0.3   0.3    1.5\n",
       "10               0.3   0.2   0.3   0.3   0.3    1.5\n",
       "11               0.2   0.2   0.3   0.3   0.3    1.4\n",
       "12               0.2   0.2   0.3   0.3   0.3    1.3\n",
       "All             85.7   3.1   3.4   3.9   3.9  100.0"
      ]
     },
     "execution_count": 13,
     "metadata": {},
     "output_type": "execute_result"
    }
   ],
   "source": [
    "(pd.crosstab(tbl[\"Calendar_Month\"], tbl[\"Calendar_Year\"], values=tbl[\"Exposures\"], \n",
    "             aggfunc=\"sum\", normalize=True, margins=True) *100).round(1)"
   ]
  },
  {
   "cell_type": "code",
   "execution_count": 14,
   "metadata": {
    "execution": {
     "iopub.execute_input": "2024-07-20T16:30:15.086851Z",
     "iopub.status.busy": "2024-07-20T16:30:15.086851Z",
     "iopub.status.idle": "2024-07-20T16:30:15.119384Z",
     "shell.execute_reply": "2024-07-20T16:30:15.119384Z",
     "shell.execute_reply.started": "2024-07-20T16:30:15.086851Z"
    }
   },
   "outputs": [
    {
     "name": "stdout",
     "output_type": "stream",
     "text": [
      "Settlement_Counts      0\n",
      "Max_Out_Counts       438\n",
      "Limits_Count           0\n",
      "dtype: int64\n"
     ]
    }
   ],
   "source": [
    "flg = ((rawtbl[\"Calendar_Month\"]==2) & \n",
    "       (rawtbl[\"Calendar_Year\"]==2010) & \n",
    "       (rawtbl[\"Exposures\"]<1))\n",
    "print(rawtbl[flg][[\"Settlement_Counts\", \"Max_Out_Counts\", \"Limits_Count\"]].sum())"
   ]
  },
  {
   "cell_type": "markdown",
   "metadata": {},
   "source": [
    "Since we would like to get rid of fractional exposures, as next step, all records of month 1 of year 2009 will be excluded. Since terminations due to deaths and recoveries will get an exposure of one, no matter whether they entered the study fully on month 1 or partially, it is not possible to filter all partial exposures. Just filtering out partial exposures which did not lead to termination would introduce bias. This removal decreases the total experience but, given the large overall amount of data available, this is not a problem. "
   ]
  },
  {
   "cell_type": "code",
   "execution_count": 15,
   "metadata": {
    "execution": {
     "iopub.execute_input": "2024-07-20T16:30:15.119384Z",
     "iopub.status.busy": "2024-07-20T16:30:15.119384Z",
     "iopub.status.idle": "2024-07-20T16:30:16.232367Z",
     "shell.execute_reply": "2024-07-20T16:30:16.232367Z",
     "shell.execute_reply.started": "2024-07-20T16:30:15.119384Z"
    }
   },
   "outputs": [],
   "source": [
    "flg = (rawtbl[\"Calendar_Month\"]==1) & (rawtbl[\"Calendar_Year\"]==2009)\n",
    "rawtbl = rawtbl[ ~flg]"
   ]
  },
  {
   "cell_type": "markdown",
   "metadata": {},
   "source": [
    "# Some data hygiene\n"
   ]
  },
  {
   "cell_type": "markdown",
   "metadata": {},
   "source": [
    "* Some of the entries in `Residence_State` are not spelled consistently (and the variable contains also Canadian provinces).\n",
    "* It is more convenient to have a single numeric value for calendar time instead split ones for year and month\n",
    "* Since the sole focus is on recovery, all other termination reasons can be dropped.\n",
    "* Categorical variables get the appropriate dtype."
   ]
  },
  {
   "cell_type": "code",
   "execution_count": 16,
   "metadata": {
    "execution": {
     "iopub.execute_input": "2024-07-20T16:30:16.232367Z",
     "iopub.status.busy": "2024-07-20T16:30:16.232367Z",
     "iopub.status.idle": "2024-07-20T16:30:22.817938Z",
     "shell.execute_reply": "2024-07-20T16:30:22.817938Z",
     "shell.execute_reply.started": "2024-07-20T16:30:16.232367Z"
    }
   },
   "outputs": [],
   "source": [
    "# some more data hygiene\n",
    "rawtbl[\"Residence_State\"] = rawtbl[\"Residence_State\"].str.upper()\n",
    "# Make calendar year and month to a single time index\n",
    "rawtbl[\"Month_of_Study\"] = 12 * ((rawtbl[\"Calendar_Year\"] - 2009) \n",
    "                                 + rawtbl[\"Calendar_Month\"])\n",
    "rawtbl.drop([\"Calendar_Year\", \"Calendar_Month\"], axis=1, inplace=True)\n",
    "# these are not required for fitting and can be dropped\n",
    "rawtbl.drop([\"Max_Out_Counts\", \"Settlement_Counts\", \"Actual_Deaths\", \n",
    "             \"Limits_Count\", \"Exposures\"], axis=1, inplace=True)\n",
    "\n",
    "# classification of inputs\n",
    "col_cat = {'Elimination_Period', 'Diagnosis_Category', \n",
    "            'OwnOccToAnyTransition', 'Gender','Mental_and_Nervous_Period', \n",
    "           \"M_N_Limit_Transition\", 'Industry', \n",
    "            'Taxability_of_Benefits', 'Integration_with_STD','Residence_State', \n",
    "           'COLA_Indicator', 'Benefit_Max_Limit_Proxy',\n",
    "            'Original_Social_Security_Award_Status',\n",
    "           'Updated_Social_Security_Award_Status'}\n",
    "\n",
    "rawtbl[list(col_cat)] = rawtbl[list(col_cat)].astype(\"category\")\n",
    "rawtbl.reset_index(drop=True, inplace=True)"
   ]
  },
  {
   "cell_type": "markdown",
   "metadata": {
    "editable": true,
    "slideshow": {
     "slide_type": ""
    },
    "tags": []
   },
   "source": [
    "# Write working version of the data \n",
    "\n",
    "To conclude, we write the remaining data in a convenient format. To prevent information creep, ten percent of the claims was already stored in a separate ultimate hold-out file. This means all the loaded data is available for model selection and calibration, i.e. train and test."
   ]
  },
  {
   "cell_type": "code",
   "execution_count": 17,
   "metadata": {
    "execution": {
     "iopub.execute_input": "2024-07-20T16:30:22.817938Z",
     "iopub.status.busy": "2024-07-20T16:30:22.817938Z",
     "iopub.status.idle": "2024-07-20T16:30:23.398488Z",
     "shell.execute_reply": "2024-07-20T16:30:23.398488Z",
     "shell.execute_reply.started": "2024-07-20T16:30:22.817938Z"
    }
   },
   "outputs": [],
   "source": [
    "rawtbl.to_feather(path=datadir + fn_out)"
   ]
  },
  {
   "cell_type": "markdown",
   "metadata": {},
   "source": [
    "The total size of the train/test file in MiB is"
   ]
  },
  {
   "cell_type": "code",
   "execution_count": 18,
   "metadata": {
    "execution": {
     "iopub.execute_input": "2024-07-20T16:30:23.398488Z",
     "iopub.status.busy": "2024-07-20T16:30:23.398488Z",
     "iopub.status.idle": "2024-07-20T16:30:23.404138Z",
     "shell.execute_reply": "2024-07-20T16:30:23.404138Z",
     "shell.execute_reply.started": "2024-07-20T16:30:23.398488Z"
    }
   },
   "outputs": [
    {
     "name": "stdout",
     "output_type": "stream",
     "text": [
      "211.3MiB\n"
     ]
    }
   ],
   "source": [
    "print(f\"{round(os.path.getsize(datadir + fn_out) / 2**20,1)}MiB\")"
   ]
  }
 ],
 "metadata": {
  "kernelspec": {
   "display_name": "Python 3 (ipykernel)",
   "language": "python",
   "name": "python3"
  },
  "language_info": {
   "codemirror_mode": {
    "name": "ipython",
    "version": 3
   },
   "file_extension": ".py",
   "mimetype": "text/x-python",
   "name": "python",
   "nbconvert_exporter": "python",
   "pygments_lexer": "ipython3",
   "version": "3.12.1"
  }
 },
 "nbformat": 4,
 "nbformat_minor": 4
}
